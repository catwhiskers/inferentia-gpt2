{
 "cells": [
  {
   "cell_type": "markdown",
   "id": "variable-character",
   "metadata": {},
   "source": [
    "# Using NeuronCore Pipeline with PyTorch"
   ]
  },
  {
   "cell_type": "markdown",
   "id": "valued-economics",
   "metadata": {},
   "source": [
    "In this tutorial you compile a pretrained BERT base model from HuggingFace 🤗 Transformers, using the NeuronCore Pipeline feature of the AWS Neuron SDK. You benchmark model latency of the pipeline parallel mode and compare with the usual data parallel (multi-worker) deployment.\n",
    "\n",
    "This tutorial is intended to run in an inf1.6xlarge, running the latest AWS Deep Learning AMI (DLAMI). The inf1.6xlarge instance size has AWS Inferentia chips for a total of 16 NeuronCores.\n",
    "\n",
    "Before continuing, verify that this Jupyter notebook is running `conda_aws_neuron_pytorch_p36` kernel of the DLAMI. You can select the Kernel from the “Kernel -> Change Kernel” option on the top of this Jupyter notebook page. If you are using your own AMI, follow [this instructions](https://awsdocs-neuron.readthedocs-hosted.com/en/latest/neuron-intro/install-pytorch.html) to set up your environment. \n",
    "\n",
    "> __Note:__ Do not execute this tutorial using \"Run -> Run all cells\" option.  "
   ]
  },
  {
   "cell_type": "markdown",
   "id": "private-authentication",
   "metadata": {},
   "source": [
    "## Install Dependencies:\n",
    "This tutorial requires the following pip packages:\n",
    "\n",
    "- `torch-neuron`\n",
    "- `neuron-cc[tensorflow]`\n",
    "- `transformers`\n",
    "\n",
    "Most of these packages will be installed when configuring your environment using the Neuron PyTorch setup guide. The additional HuggingFace 🤗 Transformers dependency must be installed here."
   ]
  },
  {
   "cell_type": "code",
   "execution_count": 1,
   "id": "romantic-accident",
   "metadata": {},
   "outputs": [
    {
     "name": "stdout",
     "output_type": "stream",
     "text": [
      "/bin/bash: switchml: line 1: syntax error: unexpected end of file\n",
      "/bin/bash: error importing function definition for `switchml'\n",
      "/bin/bash: _moduleraw: line 1: syntax error: unexpected end of file\n",
      "/bin/bash: error importing function definition for `_moduleraw'\n",
      "Looking in indexes: https://pypi.org/simple, https://pip.repos.neuron.amazonaws.com\n",
      "Requirement already satisfied: transformers==4.6.0 in /home/ubuntu/anaconda3/envs/aws_neuron_pytorch_p36/lib/python3.6/site-packages (4.6.0)\n",
      "Requirement already satisfied: packaging in /home/ubuntu/anaconda3/envs/aws_neuron_pytorch_p36/lib/python3.6/site-packages (from transformers==4.6.0) (21.3)\n",
      "Requirement already satisfied: numpy>=1.17 in /home/ubuntu/anaconda3/envs/aws_neuron_pytorch_p36/lib/python3.6/site-packages (from transformers==4.6.0) (1.19.5)\n",
      "Requirement already satisfied: dataclasses in /home/ubuntu/anaconda3/envs/aws_neuron_pytorch_p36/lib/python3.6/site-packages (from transformers==4.6.0) (0.8)\n",
      "Requirement already satisfied: filelock in /home/ubuntu/anaconda3/envs/aws_neuron_pytorch_p36/lib/python3.6/site-packages (from transformers==4.6.0) (3.4.0)\n",
      "Requirement already satisfied: huggingface-hub==0.0.8 in /home/ubuntu/anaconda3/envs/aws_neuron_pytorch_p36/lib/python3.6/site-packages (from transformers==4.6.0) (0.0.8)\n",
      "Requirement already satisfied: sacremoses in /home/ubuntu/anaconda3/envs/aws_neuron_pytorch_p36/lib/python3.6/site-packages (from transformers==4.6.0) (0.0.46)\n",
      "Requirement already satisfied: importlib-metadata in /home/ubuntu/anaconda3/envs/aws_neuron_pytorch_p36/lib/python3.6/site-packages (from transformers==4.6.0) (4.8.2)\n",
      "Requirement already satisfied: regex!=2019.12.17 in /home/ubuntu/anaconda3/envs/aws_neuron_pytorch_p36/lib/python3.6/site-packages (from transformers==4.6.0) (2021.11.10)\n",
      "Requirement already satisfied: tqdm>=4.27 in /home/ubuntu/anaconda3/envs/aws_neuron_pytorch_p36/lib/python3.6/site-packages (from transformers==4.6.0) (4.62.3)\n",
      "Requirement already satisfied: tokenizers<0.11,>=0.10.1 in /home/ubuntu/anaconda3/envs/aws_neuron_pytorch_p36/lib/python3.6/site-packages (from transformers==4.6.0) (0.10.3)\n",
      "Requirement already satisfied: requests in /home/ubuntu/anaconda3/envs/aws_neuron_pytorch_p36/lib/python3.6/site-packages (from transformers==4.6.0) (2.26.0)\n",
      "Requirement already satisfied: typing-extensions>=3.6.4 in /home/ubuntu/anaconda3/envs/aws_neuron_pytorch_p36/lib/python3.6/site-packages (from importlib-metadata->transformers==4.6.0) (4.0.1)\n",
      "Requirement already satisfied: zipp>=0.5 in /home/ubuntu/anaconda3/envs/aws_neuron_pytorch_p36/lib/python3.6/site-packages (from importlib-metadata->transformers==4.6.0) (3.6.0)\n",
      "Requirement already satisfied: pyparsing!=3.0.5,>=2.0.2 in /home/ubuntu/anaconda3/envs/aws_neuron_pytorch_p36/lib/python3.6/site-packages (from packaging->transformers==4.6.0) (3.0.6)\n",
      "Requirement already satisfied: charset-normalizer~=2.0.0 in /home/ubuntu/anaconda3/envs/aws_neuron_pytorch_p36/lib/python3.6/site-packages (from requests->transformers==4.6.0) (2.0.9)\n",
      "Requirement already satisfied: urllib3<1.27,>=1.21.1 in /home/ubuntu/anaconda3/envs/aws_neuron_pytorch_p36/lib/python3.6/site-packages (from requests->transformers==4.6.0) (1.26.7)\n",
      "Requirement already satisfied: idna<4,>=2.5 in /home/ubuntu/anaconda3/envs/aws_neuron_pytorch_p36/lib/python3.6/site-packages (from requests->transformers==4.6.0) (3.3)\n",
      "Requirement already satisfied: certifi>=2017.4.17 in /home/ubuntu/anaconda3/envs/aws_neuron_pytorch_p36/lib/python3.6/site-packages (from requests->transformers==4.6.0) (2021.10.8)\n",
      "Requirement already satisfied: click in /home/ubuntu/anaconda3/envs/aws_neuron_pytorch_p36/lib/python3.6/site-packages (from sacremoses->transformers==4.6.0) (8.0.3)\n",
      "Requirement already satisfied: six in /home/ubuntu/anaconda3/envs/aws_neuron_pytorch_p36/lib/python3.6/site-packages (from sacremoses->transformers==4.6.0) (1.16.0)\n",
      "Requirement already satisfied: joblib in /home/ubuntu/anaconda3/envs/aws_neuron_pytorch_p36/lib/python3.6/site-packages (from sacremoses->transformers==4.6.0) (1.1.0)\n"
     ]
    }
   ],
   "source": [
    "!pip install --upgrade \"transformers==4.6.0\""
   ]
  },
  {
   "cell_type": "markdown",
   "id": "prompt-australian",
   "metadata": {},
   "source": [
    "## Compiling a BERT base model for a single NeuronCore"
   ]
  },
  {
   "cell_type": "markdown",
   "id": "aging-biodiversity",
   "metadata": {},
   "source": [
    "To run a HuggingFace [BERTModel](https://huggingface.co/transformers/model_doc/bert.html#bertmodel) on Inferentia, you only need to add a single extra line of code to the usual 🤗 Transformers PyTorch implementation, after importing the torch_neuron framework. \n",
    "\n",
    "Add the argument `return_dict=False` to the BERT transformers model so it can be traced with [TorchScript](https://pytorch.org/docs/stable/jit.html). TorchScript is a way to create serializable and optimizable models from PyTorch code. \n",
    "\n",
    "Enable padding to a maximum sequence length of 128, to test the model's performance with a realistic payload size. You can adapt this sequence length to your application's requirement. \n",
    "\n",
    "You can adapt the original example on the [BertModel forward pass docstring](https://huggingface.co/transformers/model_doc/bert.html#transformers.BertModel.forward) according to the following cell\n"
   ]
  },
  {
   "cell_type": "code",
   "execution_count": 1,
   "id": "stretch-preview",
   "metadata": {},
   "outputs": [
    {
     "name": "stderr",
     "output_type": "stream",
     "text": [
      "Some weights of GPT2Model were not initialized from the model checkpoint at gpt2 and are newly initialized: ['h.5.attn.masked_bias', 'h.10.attn.masked_bias', 'h.11.attn.masked_bias', 'h.4.attn.masked_bias', 'h.1.attn.masked_bias', 'h.2.attn.masked_bias', 'h.0.attn.masked_bias', 'h.9.attn.masked_bias', 'h.3.attn.masked_bias', 'h.8.attn.masked_bias', 'h.6.attn.masked_bias', 'h.7.attn.masked_bias']\n",
      "You should probably TRAIN this model on a down-stream task to be able to use it for predictions and inference.\n"
     ]
    }
   ],
   "source": [
    "import torch\n",
    "import torch_neuron\n",
    "from transformers import BertTokenizer, BertModel\n",
    "\n",
    "from joblib import Parallel, delayed  \n",
    "import numpy as np\n",
    "from tqdm import tqdm\n",
    "\n",
    "import os\n",
    "import time \n",
    "\n",
    "\n",
    "# tokenizer = BertTokenizer.from_pretrained('bert-base-uncased')\n",
    "# model = BertModel.from_pretrained('bert-base-uncased',return_dict=False)\n",
    "\n",
    "# inputs = tokenizer(\"Hello, my dog is cute\",return_tensors=\"pt\",max_length=128,padding='max_length',truncation=True)\n",
    "\n",
    "\n",
    "from transformers import GPT2Tokenizer\n",
    "from transformers import GPT2Model\n",
    "tokenizer = GPT2Tokenizer.from_pretrained('gpt2')\n",
    "tokenizer.pad_token = tokenizer.eos_token\n",
    "model = GPT2Model.from_pretrained('gpt2', return_dict=False)\n",
    "inputs = tokenizer(\"Hello, my dog is cute\",return_tensors=\"pt\")\n",
    "\n"
   ]
  },
  {
   "cell_type": "code",
   "execution_count": 2,
   "id": "47749058",
   "metadata": {},
   "outputs": [
    {
     "data": {
      "text/plain": [
       "{'input_ids': tensor([[15496,    11,   616,  3290,   318, 13779]]), 'attention_mask': tensor([[1, 1, 1, 1, 1, 1]])}"
      ]
     },
     "execution_count": 2,
     "metadata": {},
     "output_type": "execute_result"
    }
   ],
   "source": [
    "inputs"
   ]
  },
  {
   "cell_type": "code",
   "execution_count": 3,
   "id": "e7434f02",
   "metadata": {},
   "outputs": [
    {
     "name": "stdout",
     "output_type": "stream",
     "text": [
      "CPU times: user 322 ms, sys: 0 ns, total: 322 ms\n",
      "Wall time: 30 ms\n"
     ]
    }
   ],
   "source": [
    "%%time\n",
    "a = model(**inputs)\n"
   ]
  },
  {
   "cell_type": "code",
   "execution_count": 4,
   "id": "7fee219f",
   "metadata": {},
   "outputs": [
    {
     "name": "stderr",
     "output_type": "stream",
     "text": [
      "/home/ubuntu/anaconda3/envs/aws_neuron_pytorch_p36/lib/python3.6/site-packages/transformers/models/gpt2/modeling_gpt2.py:685: TracerWarning: Converting a tensor to a Python index might cause the trace to be incorrect. We can't record the data flow of Python values, so this value will be treated as a constant in the future. This means that the trace might not generalize to other inputs!\n",
      "  if past_key_values is None or len(past_key_values)==0:\n",
      "/home/ubuntu/anaconda3/envs/aws_neuron_pytorch_p36/lib/python3.6/site-packages/transformers/models/gpt2/modeling_gpt2.py:696: TracerWarning: Converting a tensor to a Python boolean might cause the trace to be incorrect. We can't record the data flow of Python values, so this value will be treated as a constant in the future. This means that the trace might not generalize to other inputs!\n",
      "  assert batch_size > 0, \"batch_size has to be defined and > 0\"\n",
      "/home/ubuntu/anaconda3/envs/aws_neuron_pytorch_p36/lib/python3.6/site-packages/transformers/models/gpt2/modeling_gpt2.py:181: TracerWarning: Converting a tensor to a Python float might cause the trace to be incorrect. We can't record the data flow of Python values, so this value will be treated as a constant in the future. This means that the trace might not generalize to other inputs!\n",
      "  attn_weights = attn_weights / (float(value.size(-1)) ** 0.5)\n",
      "/home/ubuntu/anaconda3/envs/aws_neuron_pytorch_p36/lib/python3.6/site-packages/transformers/models/gpt2/modeling_gpt2.py:186: TracerWarning: Converting a tensor to a Python index might cause the trace to be incorrect. We can't record the data flow of Python values, so this value will be treated as a constant in the future. This means that the trace might not generalize to other inputs!\n",
      "  causal_mask = self.bias[:, :, key_length - query_length : key_length, :key_length].bool()\n",
      "INFO:Neuron:There are 14 ops of 2 different types in the TorchScript that are not compiled by neuron-cc: aten::where, aten::embedding, (For more information see https://github.com/aws/aws-neuron-sdk/blob/master/release-notes/neuron-cc-ops/neuron-cc-ops-pytorch.md)\n",
      "INFO:Neuron:Number of arithmetic operators (pre-compilation) before = 1182, fused = 1156, percent fused = 97.8%\n",
      "INFO:Neuron:Compiling function _NeuronGraph$466 with neuron-cc\n",
      "INFO:Neuron:Compiling with command line: '/home/ubuntu/anaconda3/envs/aws_neuron_pytorch_p36/bin/neuron-cc compile /tmp/tmpyxv2m3ce/graph_def.pb --framework TENSORFLOW --pipeline compile SaveTemps --output /tmp/tmpyxv2m3ce/graph_def.neff --io-config {\"inputs\": {\"0:0\": [[1, 6], \"int64\"]}, \"outputs\": [\"Const:0\", \"Reshape:0\", \"Reshape_1:0\"]} --verbose 1'\n"
     ]
    },
    {
     "name": "stdout",
     "output_type": "stream",
     "text": [
      "WARNING:tensorflow:From /home/ubuntu/anaconda3/envs/aws_neuron_pytorch_p36/lib/python3.6/site-packages/torch_neuron/ops/aten.py:1785: where (from tensorflow.python.ops.array_ops) is deprecated and will be removed in a future version.\n",
      "Instructions for updating:\n",
      "Use tf.where in 2.0, which has the same broadcast rule as np.where\n"
     ]
    },
    {
     "name": "stderr",
     "output_type": "stream",
     "text": [
      "INFO:Neuron:Compiling function _NeuronGraph$467 with neuron-cc\n",
      "INFO:Neuron:Compiling with command line: '/home/ubuntu/anaconda3/envs/aws_neuron_pytorch_p36/bin/neuron-cc compile /tmp/tmp7l8mmwmk/graph_def.pb --framework TENSORFLOW --pipeline compile SaveTemps --output /tmp/tmp7l8mmwmk/graph_def.neff --io-config {\"inputs\": {\"0:0\": [[1, 6, 768], \"float32\"], \"1:0\": [[1, 6, 768], \"float32\"]}, \"outputs\": [\"add:0\", \"split:2\", \"transpose_1:0\", \"truediv:0\", \"Cast_2:0\"]} --verbose 1'\n",
      "INFO:Neuron:Compiling function _NeuronGraph$468 with neuron-cc\n",
      "INFO:Neuron:Compiling with command line: '/home/ubuntu/anaconda3/envs/aws_neuron_pytorch_p36/bin/neuron-cc compile /tmp/tmpknmy9bpm/graph_def.pb --framework TENSORFLOW --pipeline compile SaveTemps --output /tmp/tmpknmy9bpm/graph_def.neff --io-config {\"inputs\": {\"0:0\": [[1, 6], \"int64\"], \"1:0\": [[1, 6], \"int64\"], \"2:0\": [[1, 6, 768], \"float32\"], \"3:0\": [[1, 12, 6, 6], \"float32\"], \"4:0\": [[1, 12, 6, 64], \"float32\"], \"5:0\": [[1, 6, 768], \"float32\"]}, \"outputs\": [\"mul_1:0\", \"add_13:0\", \"4:0\", \"transpose:0\", \"split:2\", \"transpose_3:0\", \"truediv:0\", \"Cast_3:0\"]} --verbose 1'\n",
      "INFO:Neuron:Compile command returned: 1\n",
      "WARNING:Neuron:torch.neuron.trace failed on _NeuronGraph$468; falling back to native python function call\n",
      "ERROR:Neuron:neuron-cc failed with the following command line call:\n",
      "/home/ubuntu/anaconda3/envs/aws_neuron_pytorch_p36/bin/neuron-cc compile /tmp/tmpknmy9bpm/graph_def.pb --framework TENSORFLOW --pipeline compile SaveTemps --output /tmp/tmpknmy9bpm/graph_def.neff --io-config '{\"inputs\": {\"0:0\": [[1, 6], \"int64\"], \"1:0\": [[1, 6], \"int64\"], \"2:0\": [[1, 6, 768], \"float32\"], \"3:0\": [[1, 12, 6, 6], \"float32\"], \"4:0\": [[1, 12, 6, 64], \"float32\"], \"5:0\": [[1, 6, 768], \"float32\"]}, \"outputs\": [\"mul_1:0\", \"add_13:0\", \"4:0\", \"transpose:0\", \"split:2\", \"transpose_3:0\", \"truediv:0\", \"Cast_3:0\"]}' --verbose 1\n",
      "Traceback (most recent call last):\n",
      "  File \"/home/ubuntu/anaconda3/envs/aws_neuron_pytorch_p36/lib/python3.6/site-packages/torch_neuron/convert.py\", line 391, in op_converter\n",
      "    item, inputs, compiler_workdir=sg_workdir, **kwargs)\n",
      "  File \"/home/ubuntu/anaconda3/envs/aws_neuron_pytorch_p36/lib/python3.6/site-packages/torch_neuron/decorators.py\", line 194, in trace\n",
      "    'neuron-cc failed with the following command line call:\\n{}'.format(command))\n",
      "subprocess.SubprocessError: neuron-cc failed with the following command line call:\n",
      "/home/ubuntu/anaconda3/envs/aws_neuron_pytorch_p36/bin/neuron-cc compile /tmp/tmpknmy9bpm/graph_def.pb --framework TENSORFLOW --pipeline compile SaveTemps --output /tmp/tmpknmy9bpm/graph_def.neff --io-config '{\"inputs\": {\"0:0\": [[1, 6], \"int64\"], \"1:0\": [[1, 6], \"int64\"], \"2:0\": [[1, 6, 768], \"float32\"], \"3:0\": [[1, 12, 6, 6], \"float32\"], \"4:0\": [[1, 12, 6, 64], \"float32\"], \"5:0\": [[1, 6, 768], \"float32\"]}, \"outputs\": [\"mul_1:0\", \"add_13:0\", \"4:0\", \"transpose:0\", \"split:2\", \"transpose_3:0\", \"truediv:0\", \"Cast_3:0\"]}' --verbose 1\n",
      "INFO:Neuron:Compiling function _NeuronGraph$469 with neuron-cc\n",
      "INFO:Neuron:Compiling with command line: '/home/ubuntu/anaconda3/envs/aws_neuron_pytorch_p36/bin/neuron-cc compile /tmp/tmpbcv6lqwx/graph_def.pb --framework TENSORFLOW --pipeline compile SaveTemps --output /tmp/tmpbcv6lqwx/graph_def.neff --io-config {\"inputs\": {\"0:0\": [[1, 6, 768], \"float32\"], \"1:0\": [[1, 12, 6, 6], \"float32\"], \"2:0\": [[1, 1, 1, 6], \"float32\"], \"3:0\": [[1, 12, 6, 64], \"float32\"], \"4:0\": [[1, 6, 768], \"float32\"]}, \"outputs\": [\"add_7:0\", \"3:0\", \"transpose:0\", \"split:2\", \"transpose_3:0\", \"truediv:0\", \"Cast_2:0\"]} --verbose 1'\n",
      "INFO:Neuron:Compile command returned: 1\n",
      "WARNING:Neuron:torch.neuron.trace failed on _NeuronGraph$469; falling back to native python function call\n",
      "ERROR:Neuron:neuron-cc failed with the following command line call:\n",
      "/home/ubuntu/anaconda3/envs/aws_neuron_pytorch_p36/bin/neuron-cc compile /tmp/tmpbcv6lqwx/graph_def.pb --framework TENSORFLOW --pipeline compile SaveTemps --output /tmp/tmpbcv6lqwx/graph_def.neff --io-config '{\"inputs\": {\"0:0\": [[1, 6, 768], \"float32\"], \"1:0\": [[1, 12, 6, 6], \"float32\"], \"2:0\": [[1, 1, 1, 6], \"float32\"], \"3:0\": [[1, 12, 6, 64], \"float32\"], \"4:0\": [[1, 6, 768], \"float32\"]}, \"outputs\": [\"add_7:0\", \"3:0\", \"transpose:0\", \"split:2\", \"transpose_3:0\", \"truediv:0\", \"Cast_2:0\"]}' --verbose 1\n",
      "Traceback (most recent call last):\n",
      "  File \"/home/ubuntu/anaconda3/envs/aws_neuron_pytorch_p36/lib/python3.6/site-packages/torch_neuron/convert.py\", line 391, in op_converter\n",
      "    item, inputs, compiler_workdir=sg_workdir, **kwargs)\n",
      "  File \"/home/ubuntu/anaconda3/envs/aws_neuron_pytorch_p36/lib/python3.6/site-packages/torch_neuron/decorators.py\", line 194, in trace\n",
      "    'neuron-cc failed with the following command line call:\\n{}'.format(command))\n",
      "subprocess.SubprocessError: neuron-cc failed with the following command line call:\n",
      "/home/ubuntu/anaconda3/envs/aws_neuron_pytorch_p36/bin/neuron-cc compile /tmp/tmpbcv6lqwx/graph_def.pb --framework TENSORFLOW --pipeline compile SaveTemps --output /tmp/tmpbcv6lqwx/graph_def.neff --io-config '{\"inputs\": {\"0:0\": [[1, 6, 768], \"float32\"], \"1:0\": [[1, 12, 6, 6], \"float32\"], \"2:0\": [[1, 1, 1, 6], \"float32\"], \"3:0\": [[1, 12, 6, 64], \"float32\"], \"4:0\": [[1, 6, 768], \"float32\"]}, \"outputs\": [\"add_7:0\", \"3:0\", \"transpose:0\", \"split:2\", \"transpose_3:0\", \"truediv:0\", \"Cast_2:0\"]}' --verbose 1\n",
      "INFO:Neuron:Compiling function _NeuronGraph$470 with neuron-cc\n",
      "INFO:Neuron:Compiling with command line: '/home/ubuntu/anaconda3/envs/aws_neuron_pytorch_p36/bin/neuron-cc compile /tmp/tmpu1qb2ckv/graph_def.pb --framework TENSORFLOW --pipeline compile SaveTemps --output /tmp/tmpu1qb2ckv/graph_def.neff --io-config {\"inputs\": {\"0:0\": [[1, 6, 768], \"float32\"], \"1:0\": [[1, 12, 6, 6], \"float32\"], \"2:0\": [[1, 1, 1, 6], \"float32\"], \"3:0\": [[1, 12, 6, 64], \"float32\"], \"4:0\": [[1, 6, 768], \"float32\"]}, \"outputs\": [\"add_7:0\", \"3:0\", \"transpose:0\", \"split:2\", \"transpose_3:0\", \"truediv:0\", \"Cast_2:0\"]} --verbose 1'\n",
      "INFO:Neuron:Compile command returned: 1\n",
      "WARNING:Neuron:torch.neuron.trace failed on _NeuronGraph$470; falling back to native python function call\n",
      "ERROR:Neuron:neuron-cc failed with the following command line call:\n",
      "/home/ubuntu/anaconda3/envs/aws_neuron_pytorch_p36/bin/neuron-cc compile /tmp/tmpu1qb2ckv/graph_def.pb --framework TENSORFLOW --pipeline compile SaveTemps --output /tmp/tmpu1qb2ckv/graph_def.neff --io-config '{\"inputs\": {\"0:0\": [[1, 6, 768], \"float32\"], \"1:0\": [[1, 12, 6, 6], \"float32\"], \"2:0\": [[1, 1, 1, 6], \"float32\"], \"3:0\": [[1, 12, 6, 64], \"float32\"], \"4:0\": [[1, 6, 768], \"float32\"]}, \"outputs\": [\"add_7:0\", \"3:0\", \"transpose:0\", \"split:2\", \"transpose_3:0\", \"truediv:0\", \"Cast_2:0\"]}' --verbose 1\n",
      "Traceback (most recent call last):\n",
      "  File \"/home/ubuntu/anaconda3/envs/aws_neuron_pytorch_p36/lib/python3.6/site-packages/torch_neuron/convert.py\", line 391, in op_converter\n",
      "    item, inputs, compiler_workdir=sg_workdir, **kwargs)\n",
      "  File \"/home/ubuntu/anaconda3/envs/aws_neuron_pytorch_p36/lib/python3.6/site-packages/torch_neuron/decorators.py\", line 194, in trace\n",
      "    'neuron-cc failed with the following command line call:\\n{}'.format(command))\n",
      "subprocess.SubprocessError: neuron-cc failed with the following command line call:\n",
      "/home/ubuntu/anaconda3/envs/aws_neuron_pytorch_p36/bin/neuron-cc compile /tmp/tmpu1qb2ckv/graph_def.pb --framework TENSORFLOW --pipeline compile SaveTemps --output /tmp/tmpu1qb2ckv/graph_def.neff --io-config '{\"inputs\": {\"0:0\": [[1, 6, 768], \"float32\"], \"1:0\": [[1, 12, 6, 6], \"float32\"], \"2:0\": [[1, 1, 1, 6], \"float32\"], \"3:0\": [[1, 12, 6, 64], \"float32\"], \"4:0\": [[1, 6, 768], \"float32\"]}, \"outputs\": [\"add_7:0\", \"3:0\", \"transpose:0\", \"split:2\", \"transpose_3:0\", \"truediv:0\", \"Cast_2:0\"]}' --verbose 1\n",
      "INFO:Neuron:Compiling function _NeuronGraph$471 with neuron-cc\n",
      "INFO:Neuron:Compiling with command line: '/home/ubuntu/anaconda3/envs/aws_neuron_pytorch_p36/bin/neuron-cc compile /tmp/tmpgagbo84a/graph_def.pb --framework TENSORFLOW --pipeline compile SaveTemps --output /tmp/tmpgagbo84a/graph_def.neff --io-config {\"inputs\": {\"0:0\": [[1, 6, 768], \"float32\"], \"1:0\": [[1, 12, 6, 6], \"float32\"], \"2:0\": [[1, 1, 1, 6], \"float32\"], \"3:0\": [[1, 12, 6, 64], \"float32\"], \"4:0\": [[1, 6, 768], \"float32\"]}, \"outputs\": [\"add_7:0\", \"3:0\", \"transpose:0\", \"split:2\", \"transpose_3:0\", \"truediv:0\", \"Cast_2:0\"]} --verbose 1'\n"
     ]
    },
    {
     "name": "stderr",
     "output_type": "stream",
     "text": [
      "INFO:Neuron:Compile command returned: 1\n",
      "WARNING:Neuron:torch.neuron.trace failed on _NeuronGraph$471; falling back to native python function call\n",
      "ERROR:Neuron:neuron-cc failed with the following command line call:\n",
      "/home/ubuntu/anaconda3/envs/aws_neuron_pytorch_p36/bin/neuron-cc compile /tmp/tmpgagbo84a/graph_def.pb --framework TENSORFLOW --pipeline compile SaveTemps --output /tmp/tmpgagbo84a/graph_def.neff --io-config '{\"inputs\": {\"0:0\": [[1, 6, 768], \"float32\"], \"1:0\": [[1, 12, 6, 6], \"float32\"], \"2:0\": [[1, 1, 1, 6], \"float32\"], \"3:0\": [[1, 12, 6, 64], \"float32\"], \"4:0\": [[1, 6, 768], \"float32\"]}, \"outputs\": [\"add_7:0\", \"3:0\", \"transpose:0\", \"split:2\", \"transpose_3:0\", \"truediv:0\", \"Cast_2:0\"]}' --verbose 1\n",
      "Traceback (most recent call last):\n",
      "  File \"/home/ubuntu/anaconda3/envs/aws_neuron_pytorch_p36/lib/python3.6/site-packages/torch_neuron/convert.py\", line 391, in op_converter\n",
      "    item, inputs, compiler_workdir=sg_workdir, **kwargs)\n",
      "  File \"/home/ubuntu/anaconda3/envs/aws_neuron_pytorch_p36/lib/python3.6/site-packages/torch_neuron/decorators.py\", line 194, in trace\n",
      "    'neuron-cc failed with the following command line call:\\n{}'.format(command))\n",
      "subprocess.SubprocessError: neuron-cc failed with the following command line call:\n",
      "/home/ubuntu/anaconda3/envs/aws_neuron_pytorch_p36/bin/neuron-cc compile /tmp/tmpgagbo84a/graph_def.pb --framework TENSORFLOW --pipeline compile SaveTemps --output /tmp/tmpgagbo84a/graph_def.neff --io-config '{\"inputs\": {\"0:0\": [[1, 6, 768], \"float32\"], \"1:0\": [[1, 12, 6, 6], \"float32\"], \"2:0\": [[1, 1, 1, 6], \"float32\"], \"3:0\": [[1, 12, 6, 64], \"float32\"], \"4:0\": [[1, 6, 768], \"float32\"]}, \"outputs\": [\"add_7:0\", \"3:0\", \"transpose:0\", \"split:2\", \"transpose_3:0\", \"truediv:0\", \"Cast_2:0\"]}' --verbose 1\n",
      "INFO:Neuron:Compiling function _NeuronGraph$472 with neuron-cc\n",
      "INFO:Neuron:Compiling with command line: '/home/ubuntu/anaconda3/envs/aws_neuron_pytorch_p36/bin/neuron-cc compile /tmp/tmpti2zxjj_/graph_def.pb --framework TENSORFLOW --pipeline compile SaveTemps --output /tmp/tmpti2zxjj_/graph_def.neff --io-config {\"inputs\": {\"0:0\": [[1, 6, 768], \"float32\"], \"1:0\": [[1, 12, 6, 6], \"float32\"], \"2:0\": [[1, 1, 1, 6], \"float32\"], \"3:0\": [[1, 12, 6, 64], \"float32\"], \"4:0\": [[1, 6, 768], \"float32\"]}, \"outputs\": [\"add_7:0\", \"3:0\", \"transpose:0\", \"split:2\", \"transpose_3:0\", \"truediv:0\", \"Cast_2:0\"]} --verbose 1'\n",
      "INFO:Neuron:Compile command returned: 1\n",
      "WARNING:Neuron:torch.neuron.trace failed on _NeuronGraph$472; falling back to native python function call\n",
      "ERROR:Neuron:neuron-cc failed with the following command line call:\n",
      "/home/ubuntu/anaconda3/envs/aws_neuron_pytorch_p36/bin/neuron-cc compile /tmp/tmpti2zxjj_/graph_def.pb --framework TENSORFLOW --pipeline compile SaveTemps --output /tmp/tmpti2zxjj_/graph_def.neff --io-config '{\"inputs\": {\"0:0\": [[1, 6, 768], \"float32\"], \"1:0\": [[1, 12, 6, 6], \"float32\"], \"2:0\": [[1, 1, 1, 6], \"float32\"], \"3:0\": [[1, 12, 6, 64], \"float32\"], \"4:0\": [[1, 6, 768], \"float32\"]}, \"outputs\": [\"add_7:0\", \"3:0\", \"transpose:0\", \"split:2\", \"transpose_3:0\", \"truediv:0\", \"Cast_2:0\"]}' --verbose 1\n",
      "Traceback (most recent call last):\n",
      "  File \"/home/ubuntu/anaconda3/envs/aws_neuron_pytorch_p36/lib/python3.6/site-packages/torch_neuron/convert.py\", line 391, in op_converter\n",
      "    item, inputs, compiler_workdir=sg_workdir, **kwargs)\n",
      "  File \"/home/ubuntu/anaconda3/envs/aws_neuron_pytorch_p36/lib/python3.6/site-packages/torch_neuron/decorators.py\", line 194, in trace\n",
      "    'neuron-cc failed with the following command line call:\\n{}'.format(command))\n",
      "subprocess.SubprocessError: neuron-cc failed with the following command line call:\n",
      "/home/ubuntu/anaconda3/envs/aws_neuron_pytorch_p36/bin/neuron-cc compile /tmp/tmpti2zxjj_/graph_def.pb --framework TENSORFLOW --pipeline compile SaveTemps --output /tmp/tmpti2zxjj_/graph_def.neff --io-config '{\"inputs\": {\"0:0\": [[1, 6, 768], \"float32\"], \"1:0\": [[1, 12, 6, 6], \"float32\"], \"2:0\": [[1, 1, 1, 6], \"float32\"], \"3:0\": [[1, 12, 6, 64], \"float32\"], \"4:0\": [[1, 6, 768], \"float32\"]}, \"outputs\": [\"add_7:0\", \"3:0\", \"transpose:0\", \"split:2\", \"transpose_3:0\", \"truediv:0\", \"Cast_2:0\"]}' --verbose 1\n",
      "INFO:Neuron:Compiling function _NeuronGraph$473 with neuron-cc\n",
      "INFO:Neuron:Compiling with command line: '/home/ubuntu/anaconda3/envs/aws_neuron_pytorch_p36/bin/neuron-cc compile /tmp/tmpdtl7p1y2/graph_def.pb --framework TENSORFLOW --pipeline compile SaveTemps --output /tmp/tmpdtl7p1y2/graph_def.neff --io-config {\"inputs\": {\"0:0\": [[1, 6, 768], \"float32\"], \"1:0\": [[1, 12, 6, 6], \"float32\"], \"2:0\": [[1, 1, 1, 6], \"float32\"], \"3:0\": [[1, 12, 6, 64], \"float32\"], \"4:0\": [[1, 6, 768], \"float32\"]}, \"outputs\": [\"add_7:0\", \"3:0\", \"transpose:0\", \"split:2\", \"transpose_3:0\", \"truediv:0\", \"Cast_2:0\"]} --verbose 1'\n",
      "INFO:Neuron:Compile command returned: 1\n",
      "WARNING:Neuron:torch.neuron.trace failed on _NeuronGraph$473; falling back to native python function call\n",
      "ERROR:Neuron:neuron-cc failed with the following command line call:\n",
      "/home/ubuntu/anaconda3/envs/aws_neuron_pytorch_p36/bin/neuron-cc compile /tmp/tmpdtl7p1y2/graph_def.pb --framework TENSORFLOW --pipeline compile SaveTemps --output /tmp/tmpdtl7p1y2/graph_def.neff --io-config '{\"inputs\": {\"0:0\": [[1, 6, 768], \"float32\"], \"1:0\": [[1, 12, 6, 6], \"float32\"], \"2:0\": [[1, 1, 1, 6], \"float32\"], \"3:0\": [[1, 12, 6, 64], \"float32\"], \"4:0\": [[1, 6, 768], \"float32\"]}, \"outputs\": [\"add_7:0\", \"3:0\", \"transpose:0\", \"split:2\", \"transpose_3:0\", \"truediv:0\", \"Cast_2:0\"]}' --verbose 1\n",
      "Traceback (most recent call last):\n",
      "  File \"/home/ubuntu/anaconda3/envs/aws_neuron_pytorch_p36/lib/python3.6/site-packages/torch_neuron/convert.py\", line 391, in op_converter\n",
      "    item, inputs, compiler_workdir=sg_workdir, **kwargs)\n",
      "  File \"/home/ubuntu/anaconda3/envs/aws_neuron_pytorch_p36/lib/python3.6/site-packages/torch_neuron/decorators.py\", line 194, in trace\n",
      "    'neuron-cc failed with the following command line call:\\n{}'.format(command))\n",
      "subprocess.SubprocessError: neuron-cc failed with the following command line call:\n",
      "/home/ubuntu/anaconda3/envs/aws_neuron_pytorch_p36/bin/neuron-cc compile /tmp/tmpdtl7p1y2/graph_def.pb --framework TENSORFLOW --pipeline compile SaveTemps --output /tmp/tmpdtl7p1y2/graph_def.neff --io-config '{\"inputs\": {\"0:0\": [[1, 6, 768], \"float32\"], \"1:0\": [[1, 12, 6, 6], \"float32\"], \"2:0\": [[1, 1, 1, 6], \"float32\"], \"3:0\": [[1, 12, 6, 64], \"float32\"], \"4:0\": [[1, 6, 768], \"float32\"]}, \"outputs\": [\"add_7:0\", \"3:0\", \"transpose:0\", \"split:2\", \"transpose_3:0\", \"truediv:0\", \"Cast_2:0\"]}' --verbose 1\n",
      "INFO:Neuron:Compiling function _NeuronGraph$474 with neuron-cc\n",
      "INFO:Neuron:Compiling with command line: '/home/ubuntu/anaconda3/envs/aws_neuron_pytorch_p36/bin/neuron-cc compile /tmp/tmpbuopf_cr/graph_def.pb --framework TENSORFLOW --pipeline compile SaveTemps --output /tmp/tmpbuopf_cr/graph_def.neff --io-config {\"inputs\": {\"0:0\": [[1, 6, 768], \"float32\"], \"1:0\": [[1, 12, 6, 6], \"float32\"], \"2:0\": [[1, 1, 1, 6], \"float32\"], \"3:0\": [[1, 12, 6, 64], \"float32\"], \"4:0\": [[1, 6, 768], \"float32\"]}, \"outputs\": [\"add_7:0\", \"3:0\", \"transpose:0\", \"split:2\", \"transpose_3:0\", \"truediv:0\", \"Cast_2:0\"]} --verbose 1'\n",
      "INFO:Neuron:Compile command returned: 1\n",
      "WARNING:Neuron:torch.neuron.trace failed on _NeuronGraph$474; falling back to native python function call\n",
      "ERROR:Neuron:neuron-cc failed with the following command line call:\n",
      "/home/ubuntu/anaconda3/envs/aws_neuron_pytorch_p36/bin/neuron-cc compile /tmp/tmpbuopf_cr/graph_def.pb --framework TENSORFLOW --pipeline compile SaveTemps --output /tmp/tmpbuopf_cr/graph_def.neff --io-config '{\"inputs\": {\"0:0\": [[1, 6, 768], \"float32\"], \"1:0\": [[1, 12, 6, 6], \"float32\"], \"2:0\": [[1, 1, 1, 6], \"float32\"], \"3:0\": [[1, 12, 6, 64], \"float32\"], \"4:0\": [[1, 6, 768], \"float32\"]}, \"outputs\": [\"add_7:0\", \"3:0\", \"transpose:0\", \"split:2\", \"transpose_3:0\", \"truediv:0\", \"Cast_2:0\"]}' --verbose 1\n",
      "Traceback (most recent call last):\n",
      "  File \"/home/ubuntu/anaconda3/envs/aws_neuron_pytorch_p36/lib/python3.6/site-packages/torch_neuron/convert.py\", line 391, in op_converter\n",
      "    item, inputs, compiler_workdir=sg_workdir, **kwargs)\n",
      "  File \"/home/ubuntu/anaconda3/envs/aws_neuron_pytorch_p36/lib/python3.6/site-packages/torch_neuron/decorators.py\", line 194, in trace\n",
      "    'neuron-cc failed with the following command line call:\\n{}'.format(command))\n",
      "subprocess.SubprocessError: neuron-cc failed with the following command line call:\n",
      "/home/ubuntu/anaconda3/envs/aws_neuron_pytorch_p36/bin/neuron-cc compile /tmp/tmpbuopf_cr/graph_def.pb --framework TENSORFLOW --pipeline compile SaveTemps --output /tmp/tmpbuopf_cr/graph_def.neff --io-config '{\"inputs\": {\"0:0\": [[1, 6, 768], \"float32\"], \"1:0\": [[1, 12, 6, 6], \"float32\"], \"2:0\": [[1, 1, 1, 6], \"float32\"], \"3:0\": [[1, 12, 6, 64], \"float32\"], \"4:0\": [[1, 6, 768], \"float32\"]}, \"outputs\": [\"add_7:0\", \"3:0\", \"transpose:0\", \"split:2\", \"transpose_3:0\", \"truediv:0\", \"Cast_2:0\"]}' --verbose 1\n"
     ]
    },
    {
     "name": "stderr",
     "output_type": "stream",
     "text": [
      "INFO:Neuron:Compiling function _NeuronGraph$475 with neuron-cc\n",
      "INFO:Neuron:Compiling with command line: '/home/ubuntu/anaconda3/envs/aws_neuron_pytorch_p36/bin/neuron-cc compile /tmp/tmpjwrt047b/graph_def.pb --framework TENSORFLOW --pipeline compile SaveTemps --output /tmp/tmpjwrt047b/graph_def.neff --io-config {\"inputs\": {\"0:0\": [[1, 6, 768], \"float32\"], \"1:0\": [[1, 12, 6, 6], \"float32\"], \"2:0\": [[1, 1, 1, 6], \"float32\"], \"3:0\": [[1, 12, 6, 64], \"float32\"], \"4:0\": [[1, 6, 768], \"float32\"]}, \"outputs\": [\"add_7:0\", \"3:0\", \"transpose:0\", \"split:2\", \"transpose_3:0\", \"truediv:0\", \"Cast_2:0\"]} --verbose 1'\n",
      "INFO:Neuron:Compile command returned: 1\n",
      "WARNING:Neuron:torch.neuron.trace failed on _NeuronGraph$475; falling back to native python function call\n",
      "ERROR:Neuron:neuron-cc failed with the following command line call:\n",
      "/home/ubuntu/anaconda3/envs/aws_neuron_pytorch_p36/bin/neuron-cc compile /tmp/tmpjwrt047b/graph_def.pb --framework TENSORFLOW --pipeline compile SaveTemps --output /tmp/tmpjwrt047b/graph_def.neff --io-config '{\"inputs\": {\"0:0\": [[1, 6, 768], \"float32\"], \"1:0\": [[1, 12, 6, 6], \"float32\"], \"2:0\": [[1, 1, 1, 6], \"float32\"], \"3:0\": [[1, 12, 6, 64], \"float32\"], \"4:0\": [[1, 6, 768], \"float32\"]}, \"outputs\": [\"add_7:0\", \"3:0\", \"transpose:0\", \"split:2\", \"transpose_3:0\", \"truediv:0\", \"Cast_2:0\"]}' --verbose 1\n",
      "Traceback (most recent call last):\n",
      "  File \"/home/ubuntu/anaconda3/envs/aws_neuron_pytorch_p36/lib/python3.6/site-packages/torch_neuron/convert.py\", line 391, in op_converter\n",
      "    item, inputs, compiler_workdir=sg_workdir, **kwargs)\n",
      "  File \"/home/ubuntu/anaconda3/envs/aws_neuron_pytorch_p36/lib/python3.6/site-packages/torch_neuron/decorators.py\", line 194, in trace\n",
      "    'neuron-cc failed with the following command line call:\\n{}'.format(command))\n",
      "subprocess.SubprocessError: neuron-cc failed with the following command line call:\n",
      "/home/ubuntu/anaconda3/envs/aws_neuron_pytorch_p36/bin/neuron-cc compile /tmp/tmpjwrt047b/graph_def.pb --framework TENSORFLOW --pipeline compile SaveTemps --output /tmp/tmpjwrt047b/graph_def.neff --io-config '{\"inputs\": {\"0:0\": [[1, 6, 768], \"float32\"], \"1:0\": [[1, 12, 6, 6], \"float32\"], \"2:0\": [[1, 1, 1, 6], \"float32\"], \"3:0\": [[1, 12, 6, 64], \"float32\"], \"4:0\": [[1, 6, 768], \"float32\"]}, \"outputs\": [\"add_7:0\", \"3:0\", \"transpose:0\", \"split:2\", \"transpose_3:0\", \"truediv:0\", \"Cast_2:0\"]}' --verbose 1\n",
      "INFO:Neuron:Compiling function _NeuronGraph$476 with neuron-cc\n",
      "INFO:Neuron:Compiling with command line: '/home/ubuntu/anaconda3/envs/aws_neuron_pytorch_p36/bin/neuron-cc compile /tmp/tmpe4yt855n/graph_def.pb --framework TENSORFLOW --pipeline compile SaveTemps --output /tmp/tmpe4yt855n/graph_def.neff --io-config {\"inputs\": {\"0:0\": [[1, 6, 768], \"float32\"], \"1:0\": [[1, 12, 6, 6], \"float32\"], \"2:0\": [[1, 1, 1, 6], \"float32\"], \"3:0\": [[1, 12, 6, 64], \"float32\"], \"4:0\": [[1, 6, 768], \"float32\"]}, \"outputs\": [\"add_7:0\", \"3:0\", \"transpose:0\", \"split:2\", \"transpose_3:0\", \"truediv:0\", \"Cast_2:0\"]} --verbose 1'\n",
      "INFO:Neuron:Compile command returned: 1\n",
      "WARNING:Neuron:torch.neuron.trace failed on _NeuronGraph$476; falling back to native python function call\n",
      "ERROR:Neuron:neuron-cc failed with the following command line call:\n",
      "/home/ubuntu/anaconda3/envs/aws_neuron_pytorch_p36/bin/neuron-cc compile /tmp/tmpe4yt855n/graph_def.pb --framework TENSORFLOW --pipeline compile SaveTemps --output /tmp/tmpe4yt855n/graph_def.neff --io-config '{\"inputs\": {\"0:0\": [[1, 6, 768], \"float32\"], \"1:0\": [[1, 12, 6, 6], \"float32\"], \"2:0\": [[1, 1, 1, 6], \"float32\"], \"3:0\": [[1, 12, 6, 64], \"float32\"], \"4:0\": [[1, 6, 768], \"float32\"]}, \"outputs\": [\"add_7:0\", \"3:0\", \"transpose:0\", \"split:2\", \"transpose_3:0\", \"truediv:0\", \"Cast_2:0\"]}' --verbose 1\n",
      "Traceback (most recent call last):\n",
      "  File \"/home/ubuntu/anaconda3/envs/aws_neuron_pytorch_p36/lib/python3.6/site-packages/torch_neuron/convert.py\", line 391, in op_converter\n",
      "    item, inputs, compiler_workdir=sg_workdir, **kwargs)\n",
      "  File \"/home/ubuntu/anaconda3/envs/aws_neuron_pytorch_p36/lib/python3.6/site-packages/torch_neuron/decorators.py\", line 194, in trace\n",
      "    'neuron-cc failed with the following command line call:\\n{}'.format(command))\n",
      "subprocess.SubprocessError: neuron-cc failed with the following command line call:\n",
      "/home/ubuntu/anaconda3/envs/aws_neuron_pytorch_p36/bin/neuron-cc compile /tmp/tmpe4yt855n/graph_def.pb --framework TENSORFLOW --pipeline compile SaveTemps --output /tmp/tmpe4yt855n/graph_def.neff --io-config '{\"inputs\": {\"0:0\": [[1, 6, 768], \"float32\"], \"1:0\": [[1, 12, 6, 6], \"float32\"], \"2:0\": [[1, 1, 1, 6], \"float32\"], \"3:0\": [[1, 12, 6, 64], \"float32\"], \"4:0\": [[1, 6, 768], \"float32\"]}, \"outputs\": [\"add_7:0\", \"3:0\", \"transpose:0\", \"split:2\", \"transpose_3:0\", \"truediv:0\", \"Cast_2:0\"]}' --verbose 1\n",
      "INFO:Neuron:Compiling function _NeuronGraph$477 with neuron-cc\n",
      "INFO:Neuron:Compiling with command line: '/home/ubuntu/anaconda3/envs/aws_neuron_pytorch_p36/bin/neuron-cc compile /tmp/tmp5yytm4_7/graph_def.pb --framework TENSORFLOW --pipeline compile SaveTemps --output /tmp/tmp5yytm4_7/graph_def.neff --io-config {\"inputs\": {\"0:0\": [[1, 6, 768], \"float32\"], \"1:0\": [[1, 12, 6, 6], \"float32\"], \"2:0\": [[1, 1, 1, 6], \"float32\"], \"3:0\": [[1, 12, 6, 64], \"float32\"], \"4:0\": [[1, 6, 768], \"float32\"]}, \"outputs\": [\"add_7:0\", \"3:0\", \"transpose:0\", \"split:2\", \"transpose_3:0\", \"truediv:0\", \"Cast_2:0\"]} --verbose 1'\n",
      "INFO:Neuron:Compile command returned: 1\n",
      "WARNING:Neuron:torch.neuron.trace failed on _NeuronGraph$477; falling back to native python function call\n",
      "ERROR:Neuron:neuron-cc failed with the following command line call:\n",
      "/home/ubuntu/anaconda3/envs/aws_neuron_pytorch_p36/bin/neuron-cc compile /tmp/tmp5yytm4_7/graph_def.pb --framework TENSORFLOW --pipeline compile SaveTemps --output /tmp/tmp5yytm4_7/graph_def.neff --io-config '{\"inputs\": {\"0:0\": [[1, 6, 768], \"float32\"], \"1:0\": [[1, 12, 6, 6], \"float32\"], \"2:0\": [[1, 1, 1, 6], \"float32\"], \"3:0\": [[1, 12, 6, 64], \"float32\"], \"4:0\": [[1, 6, 768], \"float32\"]}, \"outputs\": [\"add_7:0\", \"3:0\", \"transpose:0\", \"split:2\", \"transpose_3:0\", \"truediv:0\", \"Cast_2:0\"]}' --verbose 1\n",
      "Traceback (most recent call last):\n",
      "  File \"/home/ubuntu/anaconda3/envs/aws_neuron_pytorch_p36/lib/python3.6/site-packages/torch_neuron/convert.py\", line 391, in op_converter\n",
      "    item, inputs, compiler_workdir=sg_workdir, **kwargs)\n",
      "  File \"/home/ubuntu/anaconda3/envs/aws_neuron_pytorch_p36/lib/python3.6/site-packages/torch_neuron/decorators.py\", line 194, in trace\n",
      "    'neuron-cc failed with the following command line call:\\n{}'.format(command))\n",
      "subprocess.SubprocessError: neuron-cc failed with the following command line call:\n",
      "/home/ubuntu/anaconda3/envs/aws_neuron_pytorch_p36/bin/neuron-cc compile /tmp/tmp5yytm4_7/graph_def.pb --framework TENSORFLOW --pipeline compile SaveTemps --output /tmp/tmp5yytm4_7/graph_def.neff --io-config '{\"inputs\": {\"0:0\": [[1, 6, 768], \"float32\"], \"1:0\": [[1, 12, 6, 6], \"float32\"], \"2:0\": [[1, 1, 1, 6], \"float32\"], \"3:0\": [[1, 12, 6, 64], \"float32\"], \"4:0\": [[1, 6, 768], \"float32\"]}, \"outputs\": [\"add_7:0\", \"3:0\", \"transpose:0\", \"split:2\", \"transpose_3:0\", \"truediv:0\", \"Cast_2:0\"]}' --verbose 1\n",
      "INFO:Neuron:Compiling function _NeuronGraph$478 with neuron-cc\n",
      "INFO:Neuron:Compiling with command line: '/home/ubuntu/anaconda3/envs/aws_neuron_pytorch_p36/bin/neuron-cc compile /tmp/tmpswee0wyr/graph_def.pb --framework TENSORFLOW --pipeline compile SaveTemps --output /tmp/tmpswee0wyr/graph_def.neff --io-config {\"inputs\": {\"0:0\": [[1, 6, 768], \"float32\"], \"1:0\": [[1, 12, 6, 6], \"float32\"], \"2:0\": [[1, 1, 1, 6], \"float32\"], \"3:0\": [[1, 12, 6, 64], \"float32\"], \"4:0\": [[1, 6, 768], \"float32\"]}, \"outputs\": [\"add_7:0\", \"3:0\", \"transpose:0\", \"split:2\", \"transpose_3:0\", \"truediv:0\", \"Cast_2:0\"]} --verbose 1'\n",
      "INFO:Neuron:Compile command returned: 1\n",
      "WARNING:Neuron:torch.neuron.trace failed on _NeuronGraph$478; falling back to native python function call\n",
      "ERROR:Neuron:neuron-cc failed with the following command line call:\n",
      "/home/ubuntu/anaconda3/envs/aws_neuron_pytorch_p36/bin/neuron-cc compile /tmp/tmpswee0wyr/graph_def.pb --framework TENSORFLOW --pipeline compile SaveTemps --output /tmp/tmpswee0wyr/graph_def.neff --io-config '{\"inputs\": {\"0:0\": [[1, 6, 768], \"float32\"], \"1:0\": [[1, 12, 6, 6], \"float32\"], \"2:0\": [[1, 1, 1, 6], \"float32\"], \"3:0\": [[1, 12, 6, 64], \"float32\"], \"4:0\": [[1, 6, 768], \"float32\"]}, \"outputs\": [\"add_7:0\", \"3:0\", \"transpose:0\", \"split:2\", \"transpose_3:0\", \"truediv:0\", \"Cast_2:0\"]}' --verbose 1\n",
      "Traceback (most recent call last):\n",
      "  File \"/home/ubuntu/anaconda3/envs/aws_neuron_pytorch_p36/lib/python3.6/site-packages/torch_neuron/convert.py\", line 391, in op_converter\n",
      "    item, inputs, compiler_workdir=sg_workdir, **kwargs)\n",
      "  File \"/home/ubuntu/anaconda3/envs/aws_neuron_pytorch_p36/lib/python3.6/site-packages/torch_neuron/decorators.py\", line 194, in trace\n",
      "    'neuron-cc failed with the following command line call:\\n{}'.format(command))\n",
      "subprocess.SubprocessError: neuron-cc failed with the following command line call:\n",
      "/home/ubuntu/anaconda3/envs/aws_neuron_pytorch_p36/bin/neuron-cc compile /tmp/tmpswee0wyr/graph_def.pb --framework TENSORFLOW --pipeline compile SaveTemps --output /tmp/tmpswee0wyr/graph_def.neff --io-config '{\"inputs\": {\"0:0\": [[1, 6, 768], \"float32\"], \"1:0\": [[1, 12, 6, 6], \"float32\"], \"2:0\": [[1, 1, 1, 6], \"float32\"], \"3:0\": [[1, 12, 6, 64], \"float32\"], \"4:0\": [[1, 6, 768], \"float32\"]}, \"outputs\": [\"add_7:0\", \"3:0\", \"transpose:0\", \"split:2\", \"transpose_3:0\", \"truediv:0\", \"Cast_2:0\"]}' --verbose 1\n"
     ]
    },
    {
     "name": "stderr",
     "output_type": "stream",
     "text": [
      "INFO:Neuron:Compiling function _NeuronGraph$479 with neuron-cc\n",
      "INFO:Neuron:Compiling with command line: '/home/ubuntu/anaconda3/envs/aws_neuron_pytorch_p36/bin/neuron-cc compile /tmp/tmpvs89wcfg/graph_def.pb --framework TENSORFLOW --pipeline compile SaveTemps --output /tmp/tmpvs89wcfg/graph_def.neff --io-config {\"inputs\": {\"0:0\": [[1, 6], \"int64\"], \"tensor.2:0\": [[], \"int64\"], \"2:0\": [[1, 6, 768], \"float32\"], \"3:0\": [[1, 6, 768], \"float32\"], \"4:0\": [[1, 12, 6, 6], \"float32\"], \"5:0\": [[1, 1, 1, 6], \"float32\"], \"6:0\": [[1, 12, 6, 64], \"float32\"], \"7:0\": [[1, 6, 768], \"float32\"], \"8:0\": [[1, 12, 6, 64], \"float32\"], \"9:0\": [[1, 12, 6, 64], \"float32\"], \"10:0\": [[1, 12, 6, 64], \"float32\"], \"11:0\": [[1, 12, 6, 64], \"float32\"], \"12:0\": [[1, 12, 6, 64], \"float32\"], \"13:0\": [[1, 12, 6, 64], \"float32\"], \"14:0\": [[1, 12, 6, 64], \"float32\"], \"15:0\": [[1, 12, 6, 64], \"float32\"], \"16:0\": [[1, 12, 6, 64], \"float32\"], \"17:0\": [[1, 12, 6, 64], \"float32\"], \"18:0\": [[1, 12, 6, 64], \"float32\"], \"19:0\": [[1, 12, 6, 64], \"float32\"], \"20:0\": [[1, 12, 6, 64], \"float32\"], \"21:0\": [[1, 12, 6, 64], \"float32\"], \"22:0\": [[1, 12, 6, 64], \"float32\"], \"23:0\": [[1, 12, 6, 64], \"float32\"], \"24:0\": [[1, 12, 6, 64], \"float32\"], \"25:0\": [[1, 12, 6, 64], \"float32\"], \"26:0\": [[1, 12, 6, 64], \"float32\"], \"27:0\": [[1, 12, 6, 64], \"float32\"], \"28:0\": [[1, 12, 6, 64], \"float32\"], \"29:0\": [[1, 12, 6, 64], \"float32\"]}, \"outputs\": [\"Reshape_8:0\", \"8:0\", \"9:0\", \"10:0\", \"11:0\", \"12:0\", \"13:0\", \"14:0\", \"15:0\", \"16:0\", \"17:0\", \"18:0\", \"19:0\", \"20:0\", \"21:0\", \"22:0\", \"23:0\", \"24:0\", \"25:0\", \"26:0\", \"27:0\", \"28:0\", \"29:0\", \"6:0\", \"transpose:0\"]} --verbose 1'\n",
      "INFO:Neuron:Compile command returned: 1\n",
      "WARNING:Neuron:torch.neuron.trace failed on _NeuronGraph$479; falling back to native python function call\n",
      "ERROR:Neuron:neuron-cc failed with the following command line call:\n",
      "/home/ubuntu/anaconda3/envs/aws_neuron_pytorch_p36/bin/neuron-cc compile /tmp/tmpvs89wcfg/graph_def.pb --framework TENSORFLOW --pipeline compile SaveTemps --output /tmp/tmpvs89wcfg/graph_def.neff --io-config '{\"inputs\": {\"0:0\": [[1, 6], \"int64\"], \"tensor.2:0\": [[], \"int64\"], \"2:0\": [[1, 6, 768], \"float32\"], \"3:0\": [[1, 6, 768], \"float32\"], \"4:0\": [[1, 12, 6, 6], \"float32\"], \"5:0\": [[1, 1, 1, 6], \"float32\"], \"6:0\": [[1, 12, 6, 64], \"float32\"], \"7:0\": [[1, 6, 768], \"float32\"], \"8:0\": [[1, 12, 6, 64], \"float32\"], \"9:0\": [[1, 12, 6, 64], \"float32\"], \"10:0\": [[1, 12, 6, 64], \"float32\"], \"11:0\": [[1, 12, 6, 64], \"float32\"], \"12:0\": [[1, 12, 6, 64], \"float32\"], \"13:0\": [[1, 12, 6, 64], \"float32\"], \"14:0\": [[1, 12, 6, 64], \"float32\"], \"15:0\": [[1, 12, 6, 64], \"float32\"], \"16:0\": [[1, 12, 6, 64], \"float32\"], \"17:0\": [[1, 12, 6, 64], \"float32\"], \"18:0\": [[1, 12, 6, 64], \"float32\"], \"19:0\": [[1, 12, 6, 64], \"float32\"], \"20:0\": [[1, 12, 6, 64], \"float32\"], \"21:0\": [[1, 12, 6, 64], \"float32\"], \"22:0\": [[1, 12, 6, 64], \"float32\"], \"23:0\": [[1, 12, 6, 64], \"float32\"], \"24:0\": [[1, 12, 6, 64], \"float32\"], \"25:0\": [[1, 12, 6, 64], \"float32\"], \"26:0\": [[1, 12, 6, 64], \"float32\"], \"27:0\": [[1, 12, 6, 64], \"float32\"], \"28:0\": [[1, 12, 6, 64], \"float32\"], \"29:0\": [[1, 12, 6, 64], \"float32\"]}, \"outputs\": [\"Reshape_8:0\", \"8:0\", \"9:0\", \"10:0\", \"11:0\", \"12:0\", \"13:0\", \"14:0\", \"15:0\", \"16:0\", \"17:0\", \"18:0\", \"19:0\", \"20:0\", \"21:0\", \"22:0\", \"23:0\", \"24:0\", \"25:0\", \"26:0\", \"27:0\", \"28:0\", \"29:0\", \"6:0\", \"transpose:0\"]}' --verbose 1\n",
      "Traceback (most recent call last):\n",
      "  File \"/home/ubuntu/anaconda3/envs/aws_neuron_pytorch_p36/lib/python3.6/site-packages/torch_neuron/convert.py\", line 391, in op_converter\n",
      "    item, inputs, compiler_workdir=sg_workdir, **kwargs)\n",
      "  File \"/home/ubuntu/anaconda3/envs/aws_neuron_pytorch_p36/lib/python3.6/site-packages/torch_neuron/decorators.py\", line 194, in trace\n",
      "    'neuron-cc failed with the following command line call:\\n{}'.format(command))\n",
      "subprocess.SubprocessError: neuron-cc failed with the following command line call:\n",
      "/home/ubuntu/anaconda3/envs/aws_neuron_pytorch_p36/bin/neuron-cc compile /tmp/tmpvs89wcfg/graph_def.pb --framework TENSORFLOW --pipeline compile SaveTemps --output /tmp/tmpvs89wcfg/graph_def.neff --io-config '{\"inputs\": {\"0:0\": [[1, 6], \"int64\"], \"tensor.2:0\": [[], \"int64\"], \"2:0\": [[1, 6, 768], \"float32\"], \"3:0\": [[1, 6, 768], \"float32\"], \"4:0\": [[1, 12, 6, 6], \"float32\"], \"5:0\": [[1, 1, 1, 6], \"float32\"], \"6:0\": [[1, 12, 6, 64], \"float32\"], \"7:0\": [[1, 6, 768], \"float32\"], \"8:0\": [[1, 12, 6, 64], \"float32\"], \"9:0\": [[1, 12, 6, 64], \"float32\"], \"10:0\": [[1, 12, 6, 64], \"float32\"], \"11:0\": [[1, 12, 6, 64], \"float32\"], \"12:0\": [[1, 12, 6, 64], \"float32\"], \"13:0\": [[1, 12, 6, 64], \"float32\"], \"14:0\": [[1, 12, 6, 64], \"float32\"], \"15:0\": [[1, 12, 6, 64], \"float32\"], \"16:0\": [[1, 12, 6, 64], \"float32\"], \"17:0\": [[1, 12, 6, 64], \"float32\"], \"18:0\": [[1, 12, 6, 64], \"float32\"], \"19:0\": [[1, 12, 6, 64], \"float32\"], \"20:0\": [[1, 12, 6, 64], \"float32\"], \"21:0\": [[1, 12, 6, 64], \"float32\"], \"22:0\": [[1, 12, 6, 64], \"float32\"], \"23:0\": [[1, 12, 6, 64], \"float32\"], \"24:0\": [[1, 12, 6, 64], \"float32\"], \"25:0\": [[1, 12, 6, 64], \"float32\"], \"26:0\": [[1, 12, 6, 64], \"float32\"], \"27:0\": [[1, 12, 6, 64], \"float32\"], \"28:0\": [[1, 12, 6, 64], \"float32\"], \"29:0\": [[1, 12, 6, 64], \"float32\"]}, \"outputs\": [\"Reshape_8:0\", \"8:0\", \"9:0\", \"10:0\", \"11:0\", \"12:0\", \"13:0\", \"14:0\", \"15:0\", \"16:0\", \"17:0\", \"18:0\", \"19:0\", \"20:0\", \"21:0\", \"22:0\", \"23:0\", \"24:0\", \"25:0\", \"26:0\", \"27:0\", \"28:0\", \"29:0\", \"6:0\", \"transpose:0\"]}' --verbose 1\n",
      "INFO:Neuron:Number of arithmetic operators (post-compilation) before = 1182, compiled = 48, percent compiled = 4.06%\n",
      "INFO:Neuron:The neuron partitioner created 14 sub-graphs\n",
      "INFO:Neuron:Neuron successfully compiled 2 sub-graphs, Total fused subgraphs = 14, Percent of model sub-graphs successfully compiled = 14.3%\n",
      "INFO:Neuron:Compiled these operators (and operator counts) to Neuron:\n",
      "INFO:Neuron: => aten::Int: 12\n",
      "INFO:Neuron: => aten::ScalarImplicit: 1\n",
      "INFO:Neuron: => aten::add: 2\n",
      "INFO:Neuron: => aten::addmm: 1\n",
      "INFO:Neuron: => aten::arange: 1\n",
      "INFO:Neuron: => aten::div: 1\n",
      "INFO:Neuron: => aten::dropout: 1\n",
      "INFO:Neuron: => aten::layer_norm: 1\n",
      "INFO:Neuron: => aten::matmul: 1\n",
      "INFO:Neuron: => aten::permute: 2\n",
      "INFO:Neuron: => aten::size: 10\n",
      "INFO:Neuron: => aten::slice: 4\n",
      "INFO:Neuron: => aten::split: 1\n",
      "INFO:Neuron: => aten::sub: 1\n",
      "INFO:Neuron: => aten::to: 1\n",
      "INFO:Neuron: => aten::transpose: 1\n",
      "INFO:Neuron: => aten::unsqueeze: 1\n",
      "INFO:Neuron: => aten::view: 6\n",
      "INFO:Neuron:Not compiled operators (and operator counts) to Neuron:\n",
      "INFO:Neuron: => aten::Int: 270 [supported]\n",
      "INFO:Neuron: => aten::add: 60 [supported]\n",
      "INFO:Neuron: => aten::addmm: 47 [supported]\n",
      "INFO:Neuron: => aten::contiguous: 12 [supported]\n",
      "INFO:Neuron: => aten::div: 11 [supported]\n",
      "INFO:Neuron: => aten::dropout: 36 [supported]\n",
      "INFO:Neuron: => aten::embedding: 2 [not supported]\n",
      "INFO:Neuron: => aten::layer_norm: 24 [supported]\n",
      "INFO:Neuron: => aten::matmul: 23 [supported]\n",
      "INFO:Neuron: => aten::mul: 49 [supported]\n",
      "INFO:Neuron: => aten::permute: 46 [supported]\n",
      "INFO:Neuron: => aten::pow: 12 [supported]\n",
      "INFO:Neuron: => aten::rsub: 1 [supported]\n",
      "INFO:Neuron: => aten::size: 258 [supported]\n",
      "INFO:Neuron: => aten::slice: 46 [supported]\n",
      "INFO:Neuron: => aten::softmax: 12 [supported]\n",
      "INFO:Neuron: => aten::split: 11 [supported]\n",
      "INFO:Neuron: => aten::sub: 11 [supported]\n",
      "INFO:Neuron: => aten::tanh: 12 [supported]\n",
      "INFO:Neuron: => aten::to: 24 [supported]\n",
      "INFO:Neuron: => aten::transpose: 11 [supported]\n",
      "INFO:Neuron: => aten::unsqueeze: 2 [supported]\n",
      "INFO:Neuron: => aten::view: 142 [supported]\n",
      "INFO:Neuron: => aten::where: 12 [not supported]\n",
      "WARNING:Neuron:torch.neuron.trace was unable to compile > 50% of the operators in the compiled model!\n",
      "WARNING:Neuron:Please review the torch.neuron.analyze_model output and if you believe you are seeing a failure\n",
      "WARNING:Neuron:Lodge an issue on https://github.com/aws/aws-neuron-sdk/issues if you believe the model is not compiling as expected\n"
     ]
    }
   ],
   "source": [
    "import torch\n",
    "import torch_neuron\n",
    "# \n",
    "neuron_model = torch.neuron.trace(model,\n",
    "example_inputs = (inputs['input_ids'], torch.tensor([]), inputs['attention_mask']),\n",
    "verbose=1)\n"
   ]
  },
  {
   "cell_type": "markdown",
   "id": "conceptual-aberdeen",
   "metadata": {},
   "source": [
    "The one extra line required is the call to torch.neuron.trace() method. This call compiles the model and returns the forwad method of the torch `nn.Model` method, which you can use to run inference. \n",
    "\n",
    "The compiled graph can be saved using the `torch.jit.save` function and restored using `torch.jit.load` function for inference on Inf1 instances. During inference, the previously compiled artifacts will be loaded into the Neuron Runtime for inference execution.\n"
   ]
  },
  {
   "cell_type": "markdown",
   "id": "atmospheric-stewart",
   "metadata": {},
   "source": [
    "## Running the BERT base model on a single NeuronCore\n",
    "With the model already available in memory, you can time one execution and check for the latency on the single inference call. You will load the model into Inferentia with a single inference call. A large \"wall time\" is expected when you first run the next cell, running the cell twice will show the actual inference latency:"
   ]
  },
  {
   "cell_type": "code",
   "execution_count": 6,
   "id": "approved-reputation",
   "metadata": {},
   "outputs": [
    {
     "name": "stdout",
     "output_type": "stream",
     "text": [
      "CPU times: user 154 ms, sys: 0 ns, total: 154 ms\n",
      "Wall time: 17.2 ms\n"
     ]
    }
   ],
   "source": [
    "%%time\n",
    "# The following line tests inference and should be executed on Inf1 instance family. \n",
    "outputs = neuron_model(inputs['input_ids'], torch.tensor([]), inputs['attention_mask'])"
   ]
  },
  {
   "cell_type": "markdown",
   "id": "great-collective",
   "metadata": {},
   "source": [
    "You can also check for the throughput of the single model running on a single NeuronCore.\n",
    "\n",
    "The sequential inference test (for loop) does not measure all the performance one can achieve in an instance with multiple NeuronCores. To improve hardwar utilization you can run parallel inference requests over multiple model workers, which you'll test in the Data Parallel Bonus Section below."
   ]
  },
  {
   "cell_type": "code",
   "execution_count": 9,
   "id": "framed-reference",
   "metadata": {},
   "outputs": [
    {
     "name": "stderr",
     "output_type": "stream",
     "text": [
      "100%|██████████| 100/100 [00:01<00:00, 96.58it/s]"
     ]
    },
    {
     "name": "stdout",
     "output_type": "stream",
     "text": [
      "CPU times: user 12.4 s, sys: 11 ms, total: 12.4 s\n",
      "Wall time: 1.04 s\n"
     ]
    },
    {
     "name": "stderr",
     "output_type": "stream",
     "text": [
      "\n"
     ]
    }
   ],
   "source": [
    "%%time\n",
    "for _ in tqdm(range(100)):\n",
    "    outputs = neuron_model(*(inputs['input_ids'],torch.tensor([]),inputs['attention_mask'])) "
   ]
  },
  {
   "cell_type": "markdown",
   "id": "super-innocent",
   "metadata": {},
   "source": [
    "Save the compiled model for later use:"
   ]
  },
  {
   "cell_type": "code",
   "execution_count": 7,
   "id": "express-greensboro",
   "metadata": {},
   "outputs": [],
   "source": [
    "neuron_model.save('gpt2-neuron.pt')"
   ]
  },
  {
   "cell_type": "markdown",
   "id": "modified-government",
   "metadata": {},
   "source": [
    "## Compiling a BERT base model for 16 NeuronCores\n",
    "\n",
    "Our next step is to compile the same model for all 16 NeuronCores available in the inf1.6xlarge and check the performance difference when running pipeline parallel inferences.. \n",
    "\n",
    "Prior to compiling and executing the model, use the following cell to restart your IPython Kernel. \n",
    "\n",
    ">__Note:__ If you run this notebook using Jupyter Notebooks, instead of Jupyterlab, you may need to restart the kernel using the \"Kernel -> Restart\" option, after running the next cell "
   ]
  },
  {
   "cell_type": "code",
   "execution_count": 12,
   "id": "prime-dressing",
   "metadata": {},
   "outputs": [
    {
     "data": {
      "text/plain": [
       "{'status': 'ok', 'restart': True}"
      ]
     },
     "execution_count": 12,
     "metadata": {},
     "output_type": "execute_result"
    }
   ],
   "source": [
    "import IPython\n",
    "# Automatically restarts kernel\n",
    "IPython.Application.instance().kernel.do_shutdown(True) "
   ]
  },
  {
   "cell_type": "markdown",
   "id": "complicated-discount",
   "metadata": {},
   "source": [
    "After you get `{'status': 'ok', 'restart': True}`, reinstantiate your environment with the required libraries and the `BertTokenizer` and `BertModel` from 🤗Transformers."
   ]
  },
  {
   "cell_type": "code",
   "execution_count": 2,
   "id": "compound-initial",
   "metadata": {},
   "outputs": [
    {
     "name": "stderr",
     "output_type": "stream",
     "text": [
      "Some weights of GPT2Model were not initialized from the model checkpoint at gpt2 and are newly initialized: ['h.8.attn.masked_bias', 'h.0.attn.masked_bias', 'h.10.attn.masked_bias', 'h.6.attn.masked_bias', 'h.9.attn.masked_bias', 'h.7.attn.masked_bias', 'h.3.attn.masked_bias', 'h.5.attn.masked_bias', 'h.4.attn.masked_bias', 'h.1.attn.masked_bias', 'h.2.attn.masked_bias', 'h.11.attn.masked_bias']\n",
      "You should probably TRAIN this model on a down-stream task to be able to use it for predictions and inference.\n"
     ]
    }
   ],
   "source": [
    "import torch\n",
    "import torch_neuron\n",
    "from transformers import BertTokenizer, BertModel\n",
    "from transformers import GPT2Tokenizer\n",
    "from transformers import GPT2Model\n",
    "from joblib import Parallel, delayed  \n",
    "import numpy as np\n",
    "from tqdm import tqdm\n",
    "\n",
    "import os\n",
    "import time \n",
    "\n",
    "\n",
    "\n",
    "tokenizer = GPT2Tokenizer.from_pretrained('gpt2')\n",
    "tokenizer.pad_token = tokenizer.eos_token\n",
    "model = GPT2Model.from_pretrained('gpt2',return_dict=False)\n",
    "\n",
    "inputs = tokenizer(\"Hello, my dog is cute\",return_tensors=\"pt\",max_length=128,padding='max_length',truncation=True)\n"
   ]
  },
  {
   "cell_type": "markdown",
   "id": "universal-desperate",
   "metadata": {},
   "source": [
    "To enable pipeline mode during compilation, you need only to add the compiler flag `--neuroncore-pipeline-cores` and set the number of desired cores. The cell below sets up a  `neuroncore_pipeline_cores` string, which you can set for the available number of NeuronCores on the instance: _inf1.6xlarge_ has 16 NeuronCores in 4 Inferentia chips. \n"
   ]
  },
  {
   "cell_type": "code",
   "execution_count": 3,
   "id": "passing-masters",
   "metadata": {},
   "outputs": [
    {
     "name": "stderr",
     "output_type": "stream",
     "text": [
      "/home/ubuntu/anaconda3/envs/aws_neuron_pytorch_p36/lib/python3.6/site-packages/transformers/models/gpt2/modeling_gpt2.py:685: TracerWarning: Converting a tensor to a Python index might cause the trace to be incorrect. We can't record the data flow of Python values, so this value will be treated as a constant in the future. This means that the trace might not generalize to other inputs!\n",
      "  if past_key_values is None or len(past_key_values)==0:\n",
      "/home/ubuntu/anaconda3/envs/aws_neuron_pytorch_p36/lib/python3.6/site-packages/transformers/models/gpt2/modeling_gpt2.py:696: TracerWarning: Converting a tensor to a Python boolean might cause the trace to be incorrect. We can't record the data flow of Python values, so this value will be treated as a constant in the future. This means that the trace might not generalize to other inputs!\n",
      "  assert batch_size > 0, \"batch_size has to be defined and > 0\"\n",
      "/home/ubuntu/anaconda3/envs/aws_neuron_pytorch_p36/lib/python3.6/site-packages/transformers/models/gpt2/modeling_gpt2.py:181: TracerWarning: Converting a tensor to a Python float might cause the trace to be incorrect. We can't record the data flow of Python values, so this value will be treated as a constant in the future. This means that the trace might not generalize to other inputs!\n",
      "  attn_weights = attn_weights / (float(value.size(-1)) ** 0.5)\n",
      "/home/ubuntu/anaconda3/envs/aws_neuron_pytorch_p36/lib/python3.6/site-packages/transformers/models/gpt2/modeling_gpt2.py:186: TracerWarning: Converting a tensor to a Python index might cause the trace to be incorrect. We can't record the data flow of Python values, so this value will be treated as a constant in the future. This means that the trace might not generalize to other inputs!\n",
      "  causal_mask = self.bias[:, :, key_length - query_length : key_length, :key_length].bool()\n",
      "/home/ubuntu/anaconda3/envs/aws_neuron_pytorch_p36/lib/python3.6/site-packages/torch/jit/_trace.py:966: TracerWarning: Output nr 1. of the traced function does not match the corresponding output of the Python function. Detailed error:\n",
      "With rtol=1e-05 and atol=1e-05, found 1 element(s) (out of 98304) whose difference(s) exceeded the margin of error (including 0 nan comparisons). The greatest difference was 1.3686716556549072e-05 (0.11178360879421234 vs. 0.11179729551076889), which occurred at index (0, 85, 314).\n",
      "  _module_class,\n",
      "INFO:Neuron:There are 14 ops of 2 different types in the TorchScript that are not compiled by neuron-cc: aten::where, aten::embedding, (For more information see https://github.com/aws/aws-neuron-sdk/blob/master/release-notes/neuron-cc-ops/neuron-cc-ops-pytorch.md)\n",
      "INFO:Neuron:Number of arithmetic operators (pre-compilation) before = 1182, fused = 1156, percent fused = 97.8%\n",
      "INFO:Neuron:Compiler args type is <class 'list'> value is ['--neuroncore-pipeline-cores', '8']\n",
      "INFO:Neuron:Compiling function _NeuronGraph$466 with neuron-cc\n",
      "INFO:Neuron:Compiling with command line: '/home/ubuntu/anaconda3/envs/aws_neuron_pytorch_p36/bin/neuron-cc compile /tmp/tmpafrngxs1/graph_def.pb --framework TENSORFLOW --pipeline compile SaveTemps --output /tmp/tmpafrngxs1/graph_def.neff --io-config {\"inputs\": {\"0:0\": [[1, 128], \"int64\"]}, \"outputs\": [\"Const:0\", \"Reshape:0\", \"Reshape_1:0\"]} --neuroncore-pipeline-cores 8 --verbose 1'\n",
      "INFO:Neuron:Compile command returned: -6\n",
      "WARNING:Neuron:torch.neuron.trace failed on _NeuronGraph$466; falling back to native python function call\n",
      "ERROR:Neuron:neuron-cc failed with the following command line call:\n",
      "/home/ubuntu/anaconda3/envs/aws_neuron_pytorch_p36/bin/neuron-cc compile /tmp/tmpafrngxs1/graph_def.pb --framework TENSORFLOW --pipeline compile SaveTemps --output /tmp/tmpafrngxs1/graph_def.neff --io-config '{\"inputs\": {\"0:0\": [[1, 128], \"int64\"]}, \"outputs\": [\"Const:0\", \"Reshape:0\", \"Reshape_1:0\"]}' --neuroncore-pipeline-cores 8 --verbose 1\n",
      "Traceback (most recent call last):\n",
      "  File \"/home/ubuntu/anaconda3/envs/aws_neuron_pytorch_p36/lib/python3.6/site-packages/torch_neuron/convert.py\", line 391, in op_converter\n",
      "    item, inputs, compiler_workdir=sg_workdir, **kwargs)\n",
      "  File \"/home/ubuntu/anaconda3/envs/aws_neuron_pytorch_p36/lib/python3.6/site-packages/torch_neuron/decorators.py\", line 194, in trace\n",
      "    'neuron-cc failed with the following command line call:\\n{}'.format(command))\n",
      "subprocess.SubprocessError: neuron-cc failed with the following command line call:\n",
      "/home/ubuntu/anaconda3/envs/aws_neuron_pytorch_p36/bin/neuron-cc compile /tmp/tmpafrngxs1/graph_def.pb --framework TENSORFLOW --pipeline compile SaveTemps --output /tmp/tmpafrngxs1/graph_def.neff --io-config '{\"inputs\": {\"0:0\": [[1, 128], \"int64\"]}, \"outputs\": [\"Const:0\", \"Reshape:0\", \"Reshape_1:0\"]}' --neuroncore-pipeline-cores 8 --verbose 1\n"
     ]
    },
    {
     "name": "stdout",
     "output_type": "stream",
     "text": [
      "WARNING:tensorflow:From /home/ubuntu/anaconda3/envs/aws_neuron_pytorch_p36/lib/python3.6/site-packages/torch_neuron/ops/aten.py:1785: where (from tensorflow.python.ops.array_ops) is deprecated and will be removed in a future version.\n",
      "Instructions for updating:\n",
      "Use tf.where in 2.0, which has the same broadcast rule as np.where\n"
     ]
    },
    {
     "name": "stderr",
     "output_type": "stream",
     "text": [
      "INFO:Neuron:Compiler args type is <class 'list'> value is ['--neuroncore-pipeline-cores', '8']\n",
      "INFO:Neuron:Compiling function _NeuronGraph$467 with neuron-cc\n",
      "INFO:Neuron:Compiling with command line: '/home/ubuntu/anaconda3/envs/aws_neuron_pytorch_p36/bin/neuron-cc compile /tmp/tmptn876rd8/graph_def.pb --framework TENSORFLOW --pipeline compile SaveTemps --output /tmp/tmptn876rd8/graph_def.neff --io-config {\"inputs\": {\"0:0\": [[1, 128, 768], \"float32\"], \"1:0\": [[1, 128, 768], \"float32\"]}, \"outputs\": [\"add:0\", \"split:2\", \"transpose_1:0\", \"truediv:0\", \"Cast_2:0\"]} --neuroncore-pipeline-cores 8 --verbose 1'\n",
      "INFO:Neuron:Compiler args type is <class 'list'> value is ['--neuroncore-pipeline-cores', '8']\n",
      "INFO:Neuron:Compiling function _NeuronGraph$468 with neuron-cc\n",
      "INFO:Neuron:Compiling with command line: '/home/ubuntu/anaconda3/envs/aws_neuron_pytorch_p36/bin/neuron-cc compile /tmp/tmp_w_06i7o/graph_def.pb --framework TENSORFLOW --pipeline compile SaveTemps --output /tmp/tmp_w_06i7o/graph_def.neff --io-config {\"inputs\": {\"0:0\": [[1, 128], \"int64\"], \"1:0\": [[1, 128], \"int64\"], \"2:0\": [[1, 128, 768], \"float32\"], \"3:0\": [[1, 12, 128, 128], \"float32\"], \"4:0\": [[1, 12, 128, 64], \"float32\"], \"5:0\": [[1, 128, 768], \"float32\"]}, \"outputs\": [\"mul_1:0\", \"add_13:0\", \"4:0\", \"transpose:0\", \"split:2\", \"transpose_3:0\", \"truediv:0\", \"Cast_3:0\"]} --neuroncore-pipeline-cores 8 --verbose 1'\n",
      "INFO:Neuron:Compile command returned: 1\n",
      "WARNING:Neuron:torch.neuron.trace failed on _NeuronGraph$468; falling back to native python function call\n",
      "ERROR:Neuron:neuron-cc failed with the following command line call:\n",
      "/home/ubuntu/anaconda3/envs/aws_neuron_pytorch_p36/bin/neuron-cc compile /tmp/tmp_w_06i7o/graph_def.pb --framework TENSORFLOW --pipeline compile SaveTemps --output /tmp/tmp_w_06i7o/graph_def.neff --io-config '{\"inputs\": {\"0:0\": [[1, 128], \"int64\"], \"1:0\": [[1, 128], \"int64\"], \"2:0\": [[1, 128, 768], \"float32\"], \"3:0\": [[1, 12, 128, 128], \"float32\"], \"4:0\": [[1, 12, 128, 64], \"float32\"], \"5:0\": [[1, 128, 768], \"float32\"]}, \"outputs\": [\"mul_1:0\", \"add_13:0\", \"4:0\", \"transpose:0\", \"split:2\", \"transpose_3:0\", \"truediv:0\", \"Cast_3:0\"]}' --neuroncore-pipeline-cores 8 --verbose 1\n",
      "Traceback (most recent call last):\n",
      "  File \"/home/ubuntu/anaconda3/envs/aws_neuron_pytorch_p36/lib/python3.6/site-packages/torch_neuron/convert.py\", line 391, in op_converter\n",
      "    item, inputs, compiler_workdir=sg_workdir, **kwargs)\n",
      "  File \"/home/ubuntu/anaconda3/envs/aws_neuron_pytorch_p36/lib/python3.6/site-packages/torch_neuron/decorators.py\", line 194, in trace\n",
      "    'neuron-cc failed with the following command line call:\\n{}'.format(command))\n",
      "subprocess.SubprocessError: neuron-cc failed with the following command line call:\n",
      "/home/ubuntu/anaconda3/envs/aws_neuron_pytorch_p36/bin/neuron-cc compile /tmp/tmp_w_06i7o/graph_def.pb --framework TENSORFLOW --pipeline compile SaveTemps --output /tmp/tmp_w_06i7o/graph_def.neff --io-config '{\"inputs\": {\"0:0\": [[1, 128], \"int64\"], \"1:0\": [[1, 128], \"int64\"], \"2:0\": [[1, 128, 768], \"float32\"], \"3:0\": [[1, 12, 128, 128], \"float32\"], \"4:0\": [[1, 12, 128, 64], \"float32\"], \"5:0\": [[1, 128, 768], \"float32\"]}, \"outputs\": [\"mul_1:0\", \"add_13:0\", \"4:0\", \"transpose:0\", \"split:2\", \"transpose_3:0\", \"truediv:0\", \"Cast_3:0\"]}' --neuroncore-pipeline-cores 8 --verbose 1\n",
      "INFO:Neuron:Compiler args type is <class 'list'> value is ['--neuroncore-pipeline-cores', '8']\n",
      "INFO:Neuron:Compiling function _NeuronGraph$469 with neuron-cc\n",
      "INFO:Neuron:Compiling with command line: '/home/ubuntu/anaconda3/envs/aws_neuron_pytorch_p36/bin/neuron-cc compile /tmp/tmpo_znd_kc/graph_def.pb --framework TENSORFLOW --pipeline compile SaveTemps --output /tmp/tmpo_znd_kc/graph_def.neff --io-config {\"inputs\": {\"0:0\": [[1, 128, 768], \"float32\"], \"1:0\": [[1, 12, 128, 128], \"float32\"], \"2:0\": [[1, 1, 1, 128], \"float32\"], \"3:0\": [[1, 12, 128, 64], \"float32\"], \"4:0\": [[1, 128, 768], \"float32\"]}, \"outputs\": [\"add_7:0\", \"3:0\", \"transpose:0\", \"split:2\", \"transpose_3:0\", \"truediv:0\", \"Cast_2:0\"]} --neuroncore-pipeline-cores 8 --verbose 1'\n",
      "INFO:Neuron:Compile command returned: 1\n",
      "WARNING:Neuron:torch.neuron.trace failed on _NeuronGraph$469; falling back to native python function call\n",
      "ERROR:Neuron:neuron-cc failed with the following command line call:\n",
      "/home/ubuntu/anaconda3/envs/aws_neuron_pytorch_p36/bin/neuron-cc compile /tmp/tmpo_znd_kc/graph_def.pb --framework TENSORFLOW --pipeline compile SaveTemps --output /tmp/tmpo_znd_kc/graph_def.neff --io-config '{\"inputs\": {\"0:0\": [[1, 128, 768], \"float32\"], \"1:0\": [[1, 12, 128, 128], \"float32\"], \"2:0\": [[1, 1, 1, 128], \"float32\"], \"3:0\": [[1, 12, 128, 64], \"float32\"], \"4:0\": [[1, 128, 768], \"float32\"]}, \"outputs\": [\"add_7:0\", \"3:0\", \"transpose:0\", \"split:2\", \"transpose_3:0\", \"truediv:0\", \"Cast_2:0\"]}' --neuroncore-pipeline-cores 8 --verbose 1\n",
      "Traceback (most recent call last):\n",
      "  File \"/home/ubuntu/anaconda3/envs/aws_neuron_pytorch_p36/lib/python3.6/site-packages/torch_neuron/convert.py\", line 391, in op_converter\n",
      "    item, inputs, compiler_workdir=sg_workdir, **kwargs)\n",
      "  File \"/home/ubuntu/anaconda3/envs/aws_neuron_pytorch_p36/lib/python3.6/site-packages/torch_neuron/decorators.py\", line 194, in trace\n",
      "    'neuron-cc failed with the following command line call:\\n{}'.format(command))\n",
      "subprocess.SubprocessError: neuron-cc failed with the following command line call:\n",
      "/home/ubuntu/anaconda3/envs/aws_neuron_pytorch_p36/bin/neuron-cc compile /tmp/tmpo_znd_kc/graph_def.pb --framework TENSORFLOW --pipeline compile SaveTemps --output /tmp/tmpo_znd_kc/graph_def.neff --io-config '{\"inputs\": {\"0:0\": [[1, 128, 768], \"float32\"], \"1:0\": [[1, 12, 128, 128], \"float32\"], \"2:0\": [[1, 1, 1, 128], \"float32\"], \"3:0\": [[1, 12, 128, 64], \"float32\"], \"4:0\": [[1, 128, 768], \"float32\"]}, \"outputs\": [\"add_7:0\", \"3:0\", \"transpose:0\", \"split:2\", \"transpose_3:0\", \"truediv:0\", \"Cast_2:0\"]}' --neuroncore-pipeline-cores 8 --verbose 1\n",
      "INFO:Neuron:Compiler args type is <class 'list'> value is ['--neuroncore-pipeline-cores', '8']\n",
      "INFO:Neuron:Compiling function _NeuronGraph$470 with neuron-cc\n",
      "INFO:Neuron:Compiling with command line: '/home/ubuntu/anaconda3/envs/aws_neuron_pytorch_p36/bin/neuron-cc compile /tmp/tmpfbxnvn94/graph_def.pb --framework TENSORFLOW --pipeline compile SaveTemps --output /tmp/tmpfbxnvn94/graph_def.neff --io-config {\"inputs\": {\"0:0\": [[1, 128, 768], \"float32\"], \"1:0\": [[1, 12, 128, 128], \"float32\"], \"2:0\": [[1, 1, 1, 128], \"float32\"], \"3:0\": [[1, 12, 128, 64], \"float32\"], \"4:0\": [[1, 128, 768], \"float32\"]}, \"outputs\": [\"add_7:0\", \"3:0\", \"transpose:0\", \"split:2\", \"transpose_3:0\", \"truediv:0\", \"Cast_2:0\"]} --neuroncore-pipeline-cores 8 --verbose 1'\n",
      "INFO:Neuron:Compile command returned: 1\n",
      "WARNING:Neuron:torch.neuron.trace failed on _NeuronGraph$470; falling back to native python function call\n",
      "ERROR:Neuron:neuron-cc failed with the following command line call:\n",
      "/home/ubuntu/anaconda3/envs/aws_neuron_pytorch_p36/bin/neuron-cc compile /tmp/tmpfbxnvn94/graph_def.pb --framework TENSORFLOW --pipeline compile SaveTemps --output /tmp/tmpfbxnvn94/graph_def.neff --io-config '{\"inputs\": {\"0:0\": [[1, 128, 768], \"float32\"], \"1:0\": [[1, 12, 128, 128], \"float32\"], \"2:0\": [[1, 1, 1, 128], \"float32\"], \"3:0\": [[1, 12, 128, 64], \"float32\"], \"4:0\": [[1, 128, 768], \"float32\"]}, \"outputs\": [\"add_7:0\", \"3:0\", \"transpose:0\", \"split:2\", \"transpose_3:0\", \"truediv:0\", \"Cast_2:0\"]}' --neuroncore-pipeline-cores 8 --verbose 1\n",
      "Traceback (most recent call last):\n",
      "  File \"/home/ubuntu/anaconda3/envs/aws_neuron_pytorch_p36/lib/python3.6/site-packages/torch_neuron/convert.py\", line 391, in op_converter\n",
      "    item, inputs, compiler_workdir=sg_workdir, **kwargs)\n",
      "  File \"/home/ubuntu/anaconda3/envs/aws_neuron_pytorch_p36/lib/python3.6/site-packages/torch_neuron/decorators.py\", line 194, in trace\n",
      "    'neuron-cc failed with the following command line call:\\n{}'.format(command))\n",
      "subprocess.SubprocessError: neuron-cc failed with the following command line call:\n",
      "/home/ubuntu/anaconda3/envs/aws_neuron_pytorch_p36/bin/neuron-cc compile /tmp/tmpfbxnvn94/graph_def.pb --framework TENSORFLOW --pipeline compile SaveTemps --output /tmp/tmpfbxnvn94/graph_def.neff --io-config '{\"inputs\": {\"0:0\": [[1, 128, 768], \"float32\"], \"1:0\": [[1, 12, 128, 128], \"float32\"], \"2:0\": [[1, 1, 1, 128], \"float32\"], \"3:0\": [[1, 12, 128, 64], \"float32\"], \"4:0\": [[1, 128, 768], \"float32\"]}, \"outputs\": [\"add_7:0\", \"3:0\", \"transpose:0\", \"split:2\", \"transpose_3:0\", \"truediv:0\", \"Cast_2:0\"]}' --neuroncore-pipeline-cores 8 --verbose 1\n"
     ]
    },
    {
     "name": "stderr",
     "output_type": "stream",
     "text": [
      "/home/ubuntu/anaconda3/envs/aws_neuron_pytorch_p36/lib/python3.6/site-packages/torch/jit/_trace.py:804: TracerWarning: Output nr 6. of the traced function does not match the corresponding output of the Python function. Detailed error:\n",
      "With rtol=1e-05 and atol=1e-05, found 12 element(s) (out of 196608) whose difference(s) exceeded the margin of error (including 0 nan comparisons). The greatest difference was 1.9311904907226562e-05 (0.5990979671478271 vs. 0.5990786552429199), which occurred at index (0, 11, 2, 59).\n",
      "  _module_class,\n",
      "INFO:Neuron:Compiler args type is <class 'list'> value is ['--neuroncore-pipeline-cores', '8']\n",
      "INFO:Neuron:Compiling function _NeuronGraph$471 with neuron-cc\n",
      "INFO:Neuron:Compiling with command line: '/home/ubuntu/anaconda3/envs/aws_neuron_pytorch_p36/bin/neuron-cc compile /tmp/tmp79tp8lki/graph_def.pb --framework TENSORFLOW --pipeline compile SaveTemps --output /tmp/tmp79tp8lki/graph_def.neff --io-config {\"inputs\": {\"0:0\": [[1, 128, 768], \"float32\"], \"1:0\": [[1, 12, 128, 128], \"float32\"], \"2:0\": [[1, 1, 1, 128], \"float32\"], \"3:0\": [[1, 12, 128, 64], \"float32\"], \"4:0\": [[1, 128, 768], \"float32\"]}, \"outputs\": [\"add_7:0\", \"3:0\", \"transpose:0\", \"split:2\", \"transpose_3:0\", \"truediv:0\", \"Cast_2:0\"]} --neuroncore-pipeline-cores 8 --verbose 1'\n",
      "INFO:Neuron:Compile command returned: 1\n",
      "WARNING:Neuron:torch.neuron.trace failed on _NeuronGraph$471; falling back to native python function call\n",
      "ERROR:Neuron:neuron-cc failed with the following command line call:\n",
      "/home/ubuntu/anaconda3/envs/aws_neuron_pytorch_p36/bin/neuron-cc compile /tmp/tmp79tp8lki/graph_def.pb --framework TENSORFLOW --pipeline compile SaveTemps --output /tmp/tmp79tp8lki/graph_def.neff --io-config '{\"inputs\": {\"0:0\": [[1, 128, 768], \"float32\"], \"1:0\": [[1, 12, 128, 128], \"float32\"], \"2:0\": [[1, 1, 1, 128], \"float32\"], \"3:0\": [[1, 12, 128, 64], \"float32\"], \"4:0\": [[1, 128, 768], \"float32\"]}, \"outputs\": [\"add_7:0\", \"3:0\", \"transpose:0\", \"split:2\", \"transpose_3:0\", \"truediv:0\", \"Cast_2:0\"]}' --neuroncore-pipeline-cores 8 --verbose 1\n",
      "Traceback (most recent call last):\n",
      "  File \"/home/ubuntu/anaconda3/envs/aws_neuron_pytorch_p36/lib/python3.6/site-packages/torch_neuron/convert.py\", line 391, in op_converter\n",
      "    item, inputs, compiler_workdir=sg_workdir, **kwargs)\n",
      "  File \"/home/ubuntu/anaconda3/envs/aws_neuron_pytorch_p36/lib/python3.6/site-packages/torch_neuron/decorators.py\", line 194, in trace\n",
      "    'neuron-cc failed with the following command line call:\\n{}'.format(command))\n",
      "subprocess.SubprocessError: neuron-cc failed with the following command line call:\n",
      "/home/ubuntu/anaconda3/envs/aws_neuron_pytorch_p36/bin/neuron-cc compile /tmp/tmp79tp8lki/graph_def.pb --framework TENSORFLOW --pipeline compile SaveTemps --output /tmp/tmp79tp8lki/graph_def.neff --io-config '{\"inputs\": {\"0:0\": [[1, 128, 768], \"float32\"], \"1:0\": [[1, 12, 128, 128], \"float32\"], \"2:0\": [[1, 1, 1, 128], \"float32\"], \"3:0\": [[1, 12, 128, 64], \"float32\"], \"4:0\": [[1, 128, 768], \"float32\"]}, \"outputs\": [\"add_7:0\", \"3:0\", \"transpose:0\", \"split:2\", \"transpose_3:0\", \"truediv:0\", \"Cast_2:0\"]}' --neuroncore-pipeline-cores 8 --verbose 1\n",
      "INFO:Neuron:Compiler args type is <class 'list'> value is ['--neuroncore-pipeline-cores', '8']\n",
      "INFO:Neuron:Compiling function _NeuronGraph$472 with neuron-cc\n",
      "INFO:Neuron:Compiling with command line: '/home/ubuntu/anaconda3/envs/aws_neuron_pytorch_p36/bin/neuron-cc compile /tmp/tmpzyrq21z1/graph_def.pb --framework TENSORFLOW --pipeline compile SaveTemps --output /tmp/tmpzyrq21z1/graph_def.neff --io-config {\"inputs\": {\"0:0\": [[1, 128, 768], \"float32\"], \"1:0\": [[1, 12, 128, 128], \"float32\"], \"2:0\": [[1, 1, 1, 128], \"float32\"], \"3:0\": [[1, 12, 128, 64], \"float32\"], \"4:0\": [[1, 128, 768], \"float32\"]}, \"outputs\": [\"add_7:0\", \"3:0\", \"transpose:0\", \"split:2\", \"transpose_3:0\", \"truediv:0\", \"Cast_2:0\"]} --neuroncore-pipeline-cores 8 --verbose 1'\n",
      "INFO:Neuron:Compile command returned: 1\n",
      "WARNING:Neuron:torch.neuron.trace failed on _NeuronGraph$472; falling back to native python function call\n",
      "ERROR:Neuron:neuron-cc failed with the following command line call:\n",
      "/home/ubuntu/anaconda3/envs/aws_neuron_pytorch_p36/bin/neuron-cc compile /tmp/tmpzyrq21z1/graph_def.pb --framework TENSORFLOW --pipeline compile SaveTemps --output /tmp/tmpzyrq21z1/graph_def.neff --io-config '{\"inputs\": {\"0:0\": [[1, 128, 768], \"float32\"], \"1:0\": [[1, 12, 128, 128], \"float32\"], \"2:0\": [[1, 1, 1, 128], \"float32\"], \"3:0\": [[1, 12, 128, 64], \"float32\"], \"4:0\": [[1, 128, 768], \"float32\"]}, \"outputs\": [\"add_7:0\", \"3:0\", \"transpose:0\", \"split:2\", \"transpose_3:0\", \"truediv:0\", \"Cast_2:0\"]}' --neuroncore-pipeline-cores 8 --verbose 1\n",
      "Traceback (most recent call last):\n",
      "  File \"/home/ubuntu/anaconda3/envs/aws_neuron_pytorch_p36/lib/python3.6/site-packages/torch_neuron/convert.py\", line 391, in op_converter\n",
      "    item, inputs, compiler_workdir=sg_workdir, **kwargs)\n",
      "  File \"/home/ubuntu/anaconda3/envs/aws_neuron_pytorch_p36/lib/python3.6/site-packages/torch_neuron/decorators.py\", line 194, in trace\n",
      "    'neuron-cc failed with the following command line call:\\n{}'.format(command))\n",
      "subprocess.SubprocessError: neuron-cc failed with the following command line call:\n",
      "/home/ubuntu/anaconda3/envs/aws_neuron_pytorch_p36/bin/neuron-cc compile /tmp/tmpzyrq21z1/graph_def.pb --framework TENSORFLOW --pipeline compile SaveTemps --output /tmp/tmpzyrq21z1/graph_def.neff --io-config '{\"inputs\": {\"0:0\": [[1, 128, 768], \"float32\"], \"1:0\": [[1, 12, 128, 128], \"float32\"], \"2:0\": [[1, 1, 1, 128], \"float32\"], \"3:0\": [[1, 12, 128, 64], \"float32\"], \"4:0\": [[1, 128, 768], \"float32\"]}, \"outputs\": [\"add_7:0\", \"3:0\", \"transpose:0\", \"split:2\", \"transpose_3:0\", \"truediv:0\", \"Cast_2:0\"]}' --neuroncore-pipeline-cores 8 --verbose 1\n",
      "INFO:Neuron:Compiler args type is <class 'list'> value is ['--neuroncore-pipeline-cores', '8']\n",
      "INFO:Neuron:Compiling function _NeuronGraph$473 with neuron-cc\n",
      "INFO:Neuron:Compiling with command line: '/home/ubuntu/anaconda3/envs/aws_neuron_pytorch_p36/bin/neuron-cc compile /tmp/tmpr8pcvkag/graph_def.pb --framework TENSORFLOW --pipeline compile SaveTemps --output /tmp/tmpr8pcvkag/graph_def.neff --io-config {\"inputs\": {\"0:0\": [[1, 128, 768], \"float32\"], \"1:0\": [[1, 12, 128, 128], \"float32\"], \"2:0\": [[1, 1, 1, 128], \"float32\"], \"3:0\": [[1, 12, 128, 64], \"float32\"], \"4:0\": [[1, 128, 768], \"float32\"]}, \"outputs\": [\"add_7:0\", \"3:0\", \"transpose:0\", \"split:2\", \"transpose_3:0\", \"truediv:0\", \"Cast_2:0\"]} --neuroncore-pipeline-cores 8 --verbose 1'\n",
      "INFO:Neuron:Compile command returned: 1\n",
      "WARNING:Neuron:torch.neuron.trace failed on _NeuronGraph$473; falling back to native python function call\n",
      "ERROR:Neuron:neuron-cc failed with the following command line call:\n",
      "/home/ubuntu/anaconda3/envs/aws_neuron_pytorch_p36/bin/neuron-cc compile /tmp/tmpr8pcvkag/graph_def.pb --framework TENSORFLOW --pipeline compile SaveTemps --output /tmp/tmpr8pcvkag/graph_def.neff --io-config '{\"inputs\": {\"0:0\": [[1, 128, 768], \"float32\"], \"1:0\": [[1, 12, 128, 128], \"float32\"], \"2:0\": [[1, 1, 1, 128], \"float32\"], \"3:0\": [[1, 12, 128, 64], \"float32\"], \"4:0\": [[1, 128, 768], \"float32\"]}, \"outputs\": [\"add_7:0\", \"3:0\", \"transpose:0\", \"split:2\", \"transpose_3:0\", \"truediv:0\", \"Cast_2:0\"]}' --neuroncore-pipeline-cores 8 --verbose 1\n",
      "Traceback (most recent call last):\n",
      "  File \"/home/ubuntu/anaconda3/envs/aws_neuron_pytorch_p36/lib/python3.6/site-packages/torch_neuron/convert.py\", line 391, in op_converter\n",
      "    item, inputs, compiler_workdir=sg_workdir, **kwargs)\n",
      "  File \"/home/ubuntu/anaconda3/envs/aws_neuron_pytorch_p36/lib/python3.6/site-packages/torch_neuron/decorators.py\", line 194, in trace\n",
      "    'neuron-cc failed with the following command line call:\\n{}'.format(command))\n",
      "subprocess.SubprocessError: neuron-cc failed with the following command line call:\n",
      "/home/ubuntu/anaconda3/envs/aws_neuron_pytorch_p36/bin/neuron-cc compile /tmp/tmpr8pcvkag/graph_def.pb --framework TENSORFLOW --pipeline compile SaveTemps --output /tmp/tmpr8pcvkag/graph_def.neff --io-config '{\"inputs\": {\"0:0\": [[1, 128, 768], \"float32\"], \"1:0\": [[1, 12, 128, 128], \"float32\"], \"2:0\": [[1, 1, 1, 128], \"float32\"], \"3:0\": [[1, 12, 128, 64], \"float32\"], \"4:0\": [[1, 128, 768], \"float32\"]}, \"outputs\": [\"add_7:0\", \"3:0\", \"transpose:0\", \"split:2\", \"transpose_3:0\", \"truediv:0\", \"Cast_2:0\"]}' --neuroncore-pipeline-cores 8 --verbose 1\n"
     ]
    },
    {
     "name": "stderr",
     "output_type": "stream",
     "text": [
      "INFO:Neuron:Compiler args type is <class 'list'> value is ['--neuroncore-pipeline-cores', '8']\n",
      "INFO:Neuron:Compiling function _NeuronGraph$474 with neuron-cc\n",
      "INFO:Neuron:Compiling with command line: '/home/ubuntu/anaconda3/envs/aws_neuron_pytorch_p36/bin/neuron-cc compile /tmp/tmpaqpbkgvh/graph_def.pb --framework TENSORFLOW --pipeline compile SaveTemps --output /tmp/tmpaqpbkgvh/graph_def.neff --io-config {\"inputs\": {\"0:0\": [[1, 128, 768], \"float32\"], \"1:0\": [[1, 12, 128, 128], \"float32\"], \"2:0\": [[1, 1, 1, 128], \"float32\"], \"3:0\": [[1, 12, 128, 64], \"float32\"], \"4:0\": [[1, 128, 768], \"float32\"]}, \"outputs\": [\"add_7:0\", \"3:0\", \"transpose:0\", \"split:2\", \"transpose_3:0\", \"truediv:0\", \"Cast_2:0\"]} --neuroncore-pipeline-cores 8 --verbose 1'\n",
      "INFO:Neuron:Compile command returned: 1\n",
      "WARNING:Neuron:torch.neuron.trace failed on _NeuronGraph$474; falling back to native python function call\n",
      "ERROR:Neuron:neuron-cc failed with the following command line call:\n",
      "/home/ubuntu/anaconda3/envs/aws_neuron_pytorch_p36/bin/neuron-cc compile /tmp/tmpaqpbkgvh/graph_def.pb --framework TENSORFLOW --pipeline compile SaveTemps --output /tmp/tmpaqpbkgvh/graph_def.neff --io-config '{\"inputs\": {\"0:0\": [[1, 128, 768], \"float32\"], \"1:0\": [[1, 12, 128, 128], \"float32\"], \"2:0\": [[1, 1, 1, 128], \"float32\"], \"3:0\": [[1, 12, 128, 64], \"float32\"], \"4:0\": [[1, 128, 768], \"float32\"]}, \"outputs\": [\"add_7:0\", \"3:0\", \"transpose:0\", \"split:2\", \"transpose_3:0\", \"truediv:0\", \"Cast_2:0\"]}' --neuroncore-pipeline-cores 8 --verbose 1\n",
      "Traceback (most recent call last):\n",
      "  File \"/home/ubuntu/anaconda3/envs/aws_neuron_pytorch_p36/lib/python3.6/site-packages/torch_neuron/convert.py\", line 391, in op_converter\n",
      "    item, inputs, compiler_workdir=sg_workdir, **kwargs)\n",
      "  File \"/home/ubuntu/anaconda3/envs/aws_neuron_pytorch_p36/lib/python3.6/site-packages/torch_neuron/decorators.py\", line 194, in trace\n",
      "    'neuron-cc failed with the following command line call:\\n{}'.format(command))\n",
      "subprocess.SubprocessError: neuron-cc failed with the following command line call:\n",
      "/home/ubuntu/anaconda3/envs/aws_neuron_pytorch_p36/bin/neuron-cc compile /tmp/tmpaqpbkgvh/graph_def.pb --framework TENSORFLOW --pipeline compile SaveTemps --output /tmp/tmpaqpbkgvh/graph_def.neff --io-config '{\"inputs\": {\"0:0\": [[1, 128, 768], \"float32\"], \"1:0\": [[1, 12, 128, 128], \"float32\"], \"2:0\": [[1, 1, 1, 128], \"float32\"], \"3:0\": [[1, 12, 128, 64], \"float32\"], \"4:0\": [[1, 128, 768], \"float32\"]}, \"outputs\": [\"add_7:0\", \"3:0\", \"transpose:0\", \"split:2\", \"transpose_3:0\", \"truediv:0\", \"Cast_2:0\"]}' --neuroncore-pipeline-cores 8 --verbose 1\n",
      "INFO:Neuron:Compiler args type is <class 'list'> value is ['--neuroncore-pipeline-cores', '8']\n",
      "INFO:Neuron:Compiling function _NeuronGraph$475 with neuron-cc\n",
      "INFO:Neuron:Compiling with command line: '/home/ubuntu/anaconda3/envs/aws_neuron_pytorch_p36/bin/neuron-cc compile /tmp/tmpx43g5vnd/graph_def.pb --framework TENSORFLOW --pipeline compile SaveTemps --output /tmp/tmpx43g5vnd/graph_def.neff --io-config {\"inputs\": {\"0:0\": [[1, 128, 768], \"float32\"], \"1:0\": [[1, 12, 128, 128], \"float32\"], \"2:0\": [[1, 1, 1, 128], \"float32\"], \"3:0\": [[1, 12, 128, 64], \"float32\"], \"4:0\": [[1, 128, 768], \"float32\"]}, \"outputs\": [\"add_7:0\", \"3:0\", \"transpose:0\", \"split:2\", \"transpose_3:0\", \"truediv:0\", \"Cast_2:0\"]} --neuroncore-pipeline-cores 8 --verbose 1'\n",
      "INFO:Neuron:Compile command returned: 1\n",
      "WARNING:Neuron:torch.neuron.trace failed on _NeuronGraph$475; falling back to native python function call\n",
      "ERROR:Neuron:neuron-cc failed with the following command line call:\n",
      "/home/ubuntu/anaconda3/envs/aws_neuron_pytorch_p36/bin/neuron-cc compile /tmp/tmpx43g5vnd/graph_def.pb --framework TENSORFLOW --pipeline compile SaveTemps --output /tmp/tmpx43g5vnd/graph_def.neff --io-config '{\"inputs\": {\"0:0\": [[1, 128, 768], \"float32\"], \"1:0\": [[1, 12, 128, 128], \"float32\"], \"2:0\": [[1, 1, 1, 128], \"float32\"], \"3:0\": [[1, 12, 128, 64], \"float32\"], \"4:0\": [[1, 128, 768], \"float32\"]}, \"outputs\": [\"add_7:0\", \"3:0\", \"transpose:0\", \"split:2\", \"transpose_3:0\", \"truediv:0\", \"Cast_2:0\"]}' --neuroncore-pipeline-cores 8 --verbose 1\n",
      "Traceback (most recent call last):\n",
      "  File \"/home/ubuntu/anaconda3/envs/aws_neuron_pytorch_p36/lib/python3.6/site-packages/torch_neuron/convert.py\", line 391, in op_converter\n",
      "    item, inputs, compiler_workdir=sg_workdir, **kwargs)\n",
      "  File \"/home/ubuntu/anaconda3/envs/aws_neuron_pytorch_p36/lib/python3.6/site-packages/torch_neuron/decorators.py\", line 194, in trace\n",
      "    'neuron-cc failed with the following command line call:\\n{}'.format(command))\n",
      "subprocess.SubprocessError: neuron-cc failed with the following command line call:\n",
      "/home/ubuntu/anaconda3/envs/aws_neuron_pytorch_p36/bin/neuron-cc compile /tmp/tmpx43g5vnd/graph_def.pb --framework TENSORFLOW --pipeline compile SaveTemps --output /tmp/tmpx43g5vnd/graph_def.neff --io-config '{\"inputs\": {\"0:0\": [[1, 128, 768], \"float32\"], \"1:0\": [[1, 12, 128, 128], \"float32\"], \"2:0\": [[1, 1, 1, 128], \"float32\"], \"3:0\": [[1, 12, 128, 64], \"float32\"], \"4:0\": [[1, 128, 768], \"float32\"]}, \"outputs\": [\"add_7:0\", \"3:0\", \"transpose:0\", \"split:2\", \"transpose_3:0\", \"truediv:0\", \"Cast_2:0\"]}' --neuroncore-pipeline-cores 8 --verbose 1\n",
      "INFO:Neuron:Compiler args type is <class 'list'> value is ['--neuroncore-pipeline-cores', '8']\n",
      "INFO:Neuron:Compiling function _NeuronGraph$476 with neuron-cc\n",
      "INFO:Neuron:Compiling with command line: '/home/ubuntu/anaconda3/envs/aws_neuron_pytorch_p36/bin/neuron-cc compile /tmp/tmpk8ptrty_/graph_def.pb --framework TENSORFLOW --pipeline compile SaveTemps --output /tmp/tmpk8ptrty_/graph_def.neff --io-config {\"inputs\": {\"0:0\": [[1, 128, 768], \"float32\"], \"1:0\": [[1, 12, 128, 128], \"float32\"], \"2:0\": [[1, 1, 1, 128], \"float32\"], \"3:0\": [[1, 12, 128, 64], \"float32\"], \"4:0\": [[1, 128, 768], \"float32\"]}, \"outputs\": [\"add_7:0\", \"3:0\", \"transpose:0\", \"split:2\", \"transpose_3:0\", \"truediv:0\", \"Cast_2:0\"]} --neuroncore-pipeline-cores 8 --verbose 1'\n",
      "INFO:Neuron:Compile command returned: 1\n",
      "WARNING:Neuron:torch.neuron.trace failed on _NeuronGraph$476; falling back to native python function call\n",
      "ERROR:Neuron:neuron-cc failed with the following command line call:\n",
      "/home/ubuntu/anaconda3/envs/aws_neuron_pytorch_p36/bin/neuron-cc compile /tmp/tmpk8ptrty_/graph_def.pb --framework TENSORFLOW --pipeline compile SaveTemps --output /tmp/tmpk8ptrty_/graph_def.neff --io-config '{\"inputs\": {\"0:0\": [[1, 128, 768], \"float32\"], \"1:0\": [[1, 12, 128, 128], \"float32\"], \"2:0\": [[1, 1, 1, 128], \"float32\"], \"3:0\": [[1, 12, 128, 64], \"float32\"], \"4:0\": [[1, 128, 768], \"float32\"]}, \"outputs\": [\"add_7:0\", \"3:0\", \"transpose:0\", \"split:2\", \"transpose_3:0\", \"truediv:0\", \"Cast_2:0\"]}' --neuroncore-pipeline-cores 8 --verbose 1\n",
      "Traceback (most recent call last):\n",
      "  File \"/home/ubuntu/anaconda3/envs/aws_neuron_pytorch_p36/lib/python3.6/site-packages/torch_neuron/convert.py\", line 391, in op_converter\n",
      "    item, inputs, compiler_workdir=sg_workdir, **kwargs)\n",
      "  File \"/home/ubuntu/anaconda3/envs/aws_neuron_pytorch_p36/lib/python3.6/site-packages/torch_neuron/decorators.py\", line 194, in trace\n",
      "    'neuron-cc failed with the following command line call:\\n{}'.format(command))\n",
      "subprocess.SubprocessError: neuron-cc failed with the following command line call:\n",
      "/home/ubuntu/anaconda3/envs/aws_neuron_pytorch_p36/bin/neuron-cc compile /tmp/tmpk8ptrty_/graph_def.pb --framework TENSORFLOW --pipeline compile SaveTemps --output /tmp/tmpk8ptrty_/graph_def.neff --io-config '{\"inputs\": {\"0:0\": [[1, 128, 768], \"float32\"], \"1:0\": [[1, 12, 128, 128], \"float32\"], \"2:0\": [[1, 1, 1, 128], \"float32\"], \"3:0\": [[1, 12, 128, 64], \"float32\"], \"4:0\": [[1, 128, 768], \"float32\"]}, \"outputs\": [\"add_7:0\", \"3:0\", \"transpose:0\", \"split:2\", \"transpose_3:0\", \"truediv:0\", \"Cast_2:0\"]}' --neuroncore-pipeline-cores 8 --verbose 1\n",
      "INFO:Neuron:Compiler args type is <class 'list'> value is ['--neuroncore-pipeline-cores', '8']\n",
      "INFO:Neuron:Compiling function _NeuronGraph$477 with neuron-cc\n",
      "INFO:Neuron:Compiling with command line: '/home/ubuntu/anaconda3/envs/aws_neuron_pytorch_p36/bin/neuron-cc compile /tmp/tmphlg0af17/graph_def.pb --framework TENSORFLOW --pipeline compile SaveTemps --output /tmp/tmphlg0af17/graph_def.neff --io-config {\"inputs\": {\"0:0\": [[1, 128, 768], \"float32\"], \"1:0\": [[1, 12, 128, 128], \"float32\"], \"2:0\": [[1, 1, 1, 128], \"float32\"], \"3:0\": [[1, 12, 128, 64], \"float32\"], \"4:0\": [[1, 128, 768], \"float32\"]}, \"outputs\": [\"add_7:0\", \"3:0\", \"transpose:0\", \"split:2\", \"transpose_3:0\", \"truediv:0\", \"Cast_2:0\"]} --neuroncore-pipeline-cores 8 --verbose 1'\n"
     ]
    },
    {
     "name": "stderr",
     "output_type": "stream",
     "text": [
      "INFO:Neuron:Compile command returned: 1\n",
      "WARNING:Neuron:torch.neuron.trace failed on _NeuronGraph$477; falling back to native python function call\n",
      "ERROR:Neuron:neuron-cc failed with the following command line call:\n",
      "/home/ubuntu/anaconda3/envs/aws_neuron_pytorch_p36/bin/neuron-cc compile /tmp/tmphlg0af17/graph_def.pb --framework TENSORFLOW --pipeline compile SaveTemps --output /tmp/tmphlg0af17/graph_def.neff --io-config '{\"inputs\": {\"0:0\": [[1, 128, 768], \"float32\"], \"1:0\": [[1, 12, 128, 128], \"float32\"], \"2:0\": [[1, 1, 1, 128], \"float32\"], \"3:0\": [[1, 12, 128, 64], \"float32\"], \"4:0\": [[1, 128, 768], \"float32\"]}, \"outputs\": [\"add_7:0\", \"3:0\", \"transpose:0\", \"split:2\", \"transpose_3:0\", \"truediv:0\", \"Cast_2:0\"]}' --neuroncore-pipeline-cores 8 --verbose 1\n",
      "Traceback (most recent call last):\n",
      "  File \"/home/ubuntu/anaconda3/envs/aws_neuron_pytorch_p36/lib/python3.6/site-packages/torch_neuron/convert.py\", line 391, in op_converter\n",
      "    item, inputs, compiler_workdir=sg_workdir, **kwargs)\n",
      "  File \"/home/ubuntu/anaconda3/envs/aws_neuron_pytorch_p36/lib/python3.6/site-packages/torch_neuron/decorators.py\", line 194, in trace\n",
      "    'neuron-cc failed with the following command line call:\\n{}'.format(command))\n",
      "subprocess.SubprocessError: neuron-cc failed with the following command line call:\n",
      "/home/ubuntu/anaconda3/envs/aws_neuron_pytorch_p36/bin/neuron-cc compile /tmp/tmphlg0af17/graph_def.pb --framework TENSORFLOW --pipeline compile SaveTemps --output /tmp/tmphlg0af17/graph_def.neff --io-config '{\"inputs\": {\"0:0\": [[1, 128, 768], \"float32\"], \"1:0\": [[1, 12, 128, 128], \"float32\"], \"2:0\": [[1, 1, 1, 128], \"float32\"], \"3:0\": [[1, 12, 128, 64], \"float32\"], \"4:0\": [[1, 128, 768], \"float32\"]}, \"outputs\": [\"add_7:0\", \"3:0\", \"transpose:0\", \"split:2\", \"transpose_3:0\", \"truediv:0\", \"Cast_2:0\"]}' --neuroncore-pipeline-cores 8 --verbose 1\n",
      "INFO:Neuron:Compiler args type is <class 'list'> value is ['--neuroncore-pipeline-cores', '8']\n",
      "INFO:Neuron:Compiling function _NeuronGraph$478 with neuron-cc\n",
      "INFO:Neuron:Compiling with command line: '/home/ubuntu/anaconda3/envs/aws_neuron_pytorch_p36/bin/neuron-cc compile /tmp/tmpcr70x5lw/graph_def.pb --framework TENSORFLOW --pipeline compile SaveTemps --output /tmp/tmpcr70x5lw/graph_def.neff --io-config {\"inputs\": {\"0:0\": [[1, 128, 768], \"float32\"], \"1:0\": [[1, 12, 128, 128], \"float32\"], \"2:0\": [[1, 1, 1, 128], \"float32\"], \"3:0\": [[1, 12, 128, 64], \"float32\"], \"4:0\": [[1, 128, 768], \"float32\"]}, \"outputs\": [\"add_7:0\", \"3:0\", \"transpose:0\", \"split:2\", \"transpose_3:0\", \"truediv:0\", \"Cast_2:0\"]} --neuroncore-pipeline-cores 8 --verbose 1'\n",
      "INFO:Neuron:Compile command returned: 1\n",
      "WARNING:Neuron:torch.neuron.trace failed on _NeuronGraph$478; falling back to native python function call\n",
      "ERROR:Neuron:neuron-cc failed with the following command line call:\n",
      "/home/ubuntu/anaconda3/envs/aws_neuron_pytorch_p36/bin/neuron-cc compile /tmp/tmpcr70x5lw/graph_def.pb --framework TENSORFLOW --pipeline compile SaveTemps --output /tmp/tmpcr70x5lw/graph_def.neff --io-config '{\"inputs\": {\"0:0\": [[1, 128, 768], \"float32\"], \"1:0\": [[1, 12, 128, 128], \"float32\"], \"2:0\": [[1, 1, 1, 128], \"float32\"], \"3:0\": [[1, 12, 128, 64], \"float32\"], \"4:0\": [[1, 128, 768], \"float32\"]}, \"outputs\": [\"add_7:0\", \"3:0\", \"transpose:0\", \"split:2\", \"transpose_3:0\", \"truediv:0\", \"Cast_2:0\"]}' --neuroncore-pipeline-cores 8 --verbose 1\n",
      "Traceback (most recent call last):\n",
      "  File \"/home/ubuntu/anaconda3/envs/aws_neuron_pytorch_p36/lib/python3.6/site-packages/torch_neuron/convert.py\", line 391, in op_converter\n",
      "    item, inputs, compiler_workdir=sg_workdir, **kwargs)\n",
      "  File \"/home/ubuntu/anaconda3/envs/aws_neuron_pytorch_p36/lib/python3.6/site-packages/torch_neuron/decorators.py\", line 194, in trace\n",
      "    'neuron-cc failed with the following command line call:\\n{}'.format(command))\n",
      "subprocess.SubprocessError: neuron-cc failed with the following command line call:\n",
      "/home/ubuntu/anaconda3/envs/aws_neuron_pytorch_p36/bin/neuron-cc compile /tmp/tmpcr70x5lw/graph_def.pb --framework TENSORFLOW --pipeline compile SaveTemps --output /tmp/tmpcr70x5lw/graph_def.neff --io-config '{\"inputs\": {\"0:0\": [[1, 128, 768], \"float32\"], \"1:0\": [[1, 12, 128, 128], \"float32\"], \"2:0\": [[1, 1, 1, 128], \"float32\"], \"3:0\": [[1, 12, 128, 64], \"float32\"], \"4:0\": [[1, 128, 768], \"float32\"]}, \"outputs\": [\"add_7:0\", \"3:0\", \"transpose:0\", \"split:2\", \"transpose_3:0\", \"truediv:0\", \"Cast_2:0\"]}' --neuroncore-pipeline-cores 8 --verbose 1\n",
      "INFO:Neuron:Compiler args type is <class 'list'> value is ['--neuroncore-pipeline-cores', '8']\n",
      "INFO:Neuron:Compiling function _NeuronGraph$479 with neuron-cc\n",
      "INFO:Neuron:Compiling with command line: '/home/ubuntu/anaconda3/envs/aws_neuron_pytorch_p36/bin/neuron-cc compile /tmp/tmps_te7jga/graph_def.pb --framework TENSORFLOW --pipeline compile SaveTemps --output /tmp/tmps_te7jga/graph_def.neff --io-config {\"inputs\": {\"0:0\": [[1, 128], \"int64\"], \"tensor.2:0\": [[], \"int64\"], \"2:0\": [[1, 128, 768], \"float32\"], \"3:0\": [[1, 128, 768], \"float32\"], \"4:0\": [[1, 12, 128, 128], \"float32\"], \"5:0\": [[1, 1, 1, 128], \"float32\"], \"6:0\": [[1, 12, 128, 64], \"float32\"], \"7:0\": [[1, 128, 768], \"float32\"], \"8:0\": [[1, 12, 128, 64], \"float32\"], \"9:0\": [[1, 12, 128, 64], \"float32\"], \"10:0\": [[1, 12, 128, 64], \"float32\"], \"11:0\": [[1, 12, 128, 64], \"float32\"], \"12:0\": [[1, 12, 128, 64], \"float32\"], \"13:0\": [[1, 12, 128, 64], \"float32\"], \"14:0\": [[1, 12, 128, 64], \"float32\"], \"15:0\": [[1, 12, 128, 64], \"float32\"], \"16:0\": [[1, 12, 128, 64], \"float32\"], \"17:0\": [[1, 12, 128, 64], \"float32\"], \"18:0\": [[1, 12, 128, 64], \"float32\"], \"19:0\": [[1, 12, 128, 64], \"float32\"], \"20:0\": [[1, 12, 128, 64], \"float32\"], \"21:0\": [[1, 12, 128, 64], \"float32\"], \"22:0\": [[1, 12, 128, 64], \"float32\"], \"23:0\": [[1, 12, 128, 64], \"float32\"], \"24:0\": [[1, 12, 128, 64], \"float32\"], \"25:0\": [[1, 12, 128, 64], \"float32\"], \"26:0\": [[1, 12, 128, 64], \"float32\"], \"27:0\": [[1, 12, 128, 64], \"float32\"], \"28:0\": [[1, 12, 128, 64], \"float32\"], \"29:0\": [[1, 12, 128, 64], \"float32\"]}, \"outputs\": [\"Reshape_8:0\", \"8:0\", \"9:0\", \"10:0\", \"11:0\", \"12:0\", \"13:0\", \"14:0\", \"15:0\", \"16:0\", \"17:0\", \"18:0\", \"19:0\", \"20:0\", \"21:0\", \"22:0\", \"23:0\", \"24:0\", \"25:0\", \"26:0\", \"27:0\", \"28:0\", \"29:0\", \"6:0\", \"transpose:0\"]} --neuroncore-pipeline-cores 8 --verbose 1'\n",
      "INFO:Neuron:Compile command returned: 1\n",
      "WARNING:Neuron:torch.neuron.trace failed on _NeuronGraph$479; falling back to native python function call\n",
      "ERROR:Neuron:neuron-cc failed with the following command line call:\n",
      "/home/ubuntu/anaconda3/envs/aws_neuron_pytorch_p36/bin/neuron-cc compile /tmp/tmps_te7jga/graph_def.pb --framework TENSORFLOW --pipeline compile SaveTemps --output /tmp/tmps_te7jga/graph_def.neff --io-config '{\"inputs\": {\"0:0\": [[1, 128], \"int64\"], \"tensor.2:0\": [[], \"int64\"], \"2:0\": [[1, 128, 768], \"float32\"], \"3:0\": [[1, 128, 768], \"float32\"], \"4:0\": [[1, 12, 128, 128], \"float32\"], \"5:0\": [[1, 1, 1, 128], \"float32\"], \"6:0\": [[1, 12, 128, 64], \"float32\"], \"7:0\": [[1, 128, 768], \"float32\"], \"8:0\": [[1, 12, 128, 64], \"float32\"], \"9:0\": [[1, 12, 128, 64], \"float32\"], \"10:0\": [[1, 12, 128, 64], \"float32\"], \"11:0\": [[1, 12, 128, 64], \"float32\"], \"12:0\": [[1, 12, 128, 64], \"float32\"], \"13:0\": [[1, 12, 128, 64], \"float32\"], \"14:0\": [[1, 12, 128, 64], \"float32\"], \"15:0\": [[1, 12, 128, 64], \"float32\"], \"16:0\": [[1, 12, 128, 64], \"float32\"], \"17:0\": [[1, 12, 128, 64], \"float32\"], \"18:0\": [[1, 12, 128, 64], \"float32\"], \"19:0\": [[1, 12, 128, 64], \"float32\"], \"20:0\": [[1, 12, 128, 64], \"float32\"], \"21:0\": [[1, 12, 128, 64], \"float32\"], \"22:0\": [[1, 12, 128, 64], \"float32\"], \"23:0\": [[1, 12, 128, 64], \"float32\"], \"24:0\": [[1, 12, 128, 64], \"float32\"], \"25:0\": [[1, 12, 128, 64], \"float32\"], \"26:0\": [[1, 12, 128, 64], \"float32\"], \"27:0\": [[1, 12, 128, 64], \"float32\"], \"28:0\": [[1, 12, 128, 64], \"float32\"], \"29:0\": [[1, 12, 128, 64], \"float32\"]}, \"outputs\": [\"Reshape_8:0\", \"8:0\", \"9:0\", \"10:0\", \"11:0\", \"12:0\", \"13:0\", \"14:0\", \"15:0\", \"16:0\", \"17:0\", \"18:0\", \"19:0\", \"20:0\", \"21:0\", \"22:0\", \"23:0\", \"24:0\", \"25:0\", \"26:0\", \"27:0\", \"28:0\", \"29:0\", \"6:0\", \"transpose:0\"]}' --neuroncore-pipeline-cores 8 --verbose 1\n",
      "Traceback (most recent call last):\n",
      "  File \"/home/ubuntu/anaconda3/envs/aws_neuron_pytorch_p36/lib/python3.6/site-packages/torch_neuron/convert.py\", line 391, in op_converter\n",
      "    item, inputs, compiler_workdir=sg_workdir, **kwargs)\n",
      "  File \"/home/ubuntu/anaconda3/envs/aws_neuron_pytorch_p36/lib/python3.6/site-packages/torch_neuron/decorators.py\", line 194, in trace\n",
      "    'neuron-cc failed with the following command line call:\\n{}'.format(command))\n",
      "subprocess.SubprocessError: neuron-cc failed with the following command line call:\n",
      "/home/ubuntu/anaconda3/envs/aws_neuron_pytorch_p36/bin/neuron-cc compile /tmp/tmps_te7jga/graph_def.pb --framework TENSORFLOW --pipeline compile SaveTemps --output /tmp/tmps_te7jga/graph_def.neff --io-config '{\"inputs\": {\"0:0\": [[1, 128], \"int64\"], \"tensor.2:0\": [[], \"int64\"], \"2:0\": [[1, 128, 768], \"float32\"], \"3:0\": [[1, 128, 768], \"float32\"], \"4:0\": [[1, 12, 128, 128], \"float32\"], \"5:0\": [[1, 1, 1, 128], \"float32\"], \"6:0\": [[1, 12, 128, 64], \"float32\"], \"7:0\": [[1, 128, 768], \"float32\"], \"8:0\": [[1, 12, 128, 64], \"float32\"], \"9:0\": [[1, 12, 128, 64], \"float32\"], \"10:0\": [[1, 12, 128, 64], \"float32\"], \"11:0\": [[1, 12, 128, 64], \"float32\"], \"12:0\": [[1, 12, 128, 64], \"float32\"], \"13:0\": [[1, 12, 128, 64], \"float32\"], \"14:0\": [[1, 12, 128, 64], \"float32\"], \"15:0\": [[1, 12, 128, 64], \"float32\"], \"16:0\": [[1, 12, 128, 64], \"float32\"], \"17:0\": [[1, 12, 128, 64], \"float32\"], \"18:0\": [[1, 12, 128, 64], \"float32\"], \"19:0\": [[1, 12, 128, 64], \"float32\"], \"20:0\": [[1, 12, 128, 64], \"float32\"], \"21:0\": [[1, 12, 128, 64], \"float32\"], \"22:0\": [[1, 12, 128, 64], \"float32\"], \"23:0\": [[1, 12, 128, 64], \"float32\"], \"24:0\": [[1, 12, 128, 64], \"float32\"], \"25:0\": [[1, 12, 128, 64], \"float32\"], \"26:0\": [[1, 12, 128, 64], \"float32\"], \"27:0\": [[1, 12, 128, 64], \"float32\"], \"28:0\": [[1, 12, 128, 64], \"float32\"], \"29:0\": [[1, 12, 128, 64], \"float32\"]}, \"outputs\": [\"Reshape_8:0\", \"8:0\", \"9:0\", \"10:0\", \"11:0\", \"12:0\", \"13:0\", \"14:0\", \"15:0\", \"16:0\", \"17:0\", \"18:0\", \"19:0\", \"20:0\", \"21:0\", \"22:0\", \"23:0\", \"24:0\", \"25:0\", \"26:0\", \"27:0\", \"28:0\", \"29:0\", \"6:0\", \"transpose:0\"]}' --neuroncore-pipeline-cores 8 --verbose 1\n"
     ]
    },
    {
     "name": "stderr",
     "output_type": "stream",
     "text": [
      "INFO:Neuron:Number of arithmetic operators (post-compilation) before = 1182, compiled = 39, percent compiled = 3.3%\n",
      "INFO:Neuron:The neuron partitioner created 14 sub-graphs\n",
      "INFO:Neuron:Neuron successfully compiled 1 sub-graphs, Total fused subgraphs = 14, Percent of model sub-graphs successfully compiled = 7.1%\n",
      "INFO:Neuron:Compiled these operators (and operator counts) to Neuron:\n",
      "INFO:Neuron: => aten::Int: 10\n",
      "INFO:Neuron: => aten::add: 1\n",
      "INFO:Neuron: => aten::addmm: 1\n",
      "INFO:Neuron: => aten::div: 1\n",
      "INFO:Neuron: => aten::dropout: 1\n",
      "INFO:Neuron: => aten::layer_norm: 1\n",
      "INFO:Neuron: => aten::matmul: 1\n",
      "INFO:Neuron: => aten::permute: 2\n",
      "INFO:Neuron: => aten::size: 9\n",
      "INFO:Neuron: => aten::slice: 4\n",
      "INFO:Neuron: => aten::split: 1\n",
      "INFO:Neuron: => aten::sub: 1\n",
      "INFO:Neuron: => aten::to: 1\n",
      "INFO:Neuron: => aten::transpose: 1\n",
      "INFO:Neuron: => aten::view: 4\n",
      "INFO:Neuron:Not compiled operators (and operator counts) to Neuron:\n",
      "INFO:Neuron: => aten::Int: 272 [supported]\n",
      "INFO:Neuron: => aten::ScalarImplicit: 1 [supported]\n",
      "INFO:Neuron: => aten::add: 61 [supported]\n",
      "INFO:Neuron: => aten::addmm: 47 [supported]\n",
      "INFO:Neuron: => aten::arange: 1 [supported]\n",
      "INFO:Neuron: => aten::contiguous: 12 [supported]\n",
      "INFO:Neuron: => aten::div: 11 [supported]\n",
      "INFO:Neuron: => aten::dropout: 36 [supported]\n",
      "INFO:Neuron: => aten::embedding: 2 [not supported]\n",
      "INFO:Neuron: => aten::layer_norm: 24 [supported]\n",
      "INFO:Neuron: => aten::matmul: 23 [supported]\n",
      "INFO:Neuron: => aten::mul: 49 [supported]\n",
      "INFO:Neuron: => aten::permute: 46 [supported]\n",
      "INFO:Neuron: => aten::pow: 12 [supported]\n",
      "INFO:Neuron: => aten::rsub: 1 [supported]\n",
      "INFO:Neuron: => aten::size: 259 [supported]\n",
      "INFO:Neuron: => aten::slice: 46 [supported]\n",
      "INFO:Neuron: => aten::softmax: 12 [supported]\n",
      "INFO:Neuron: => aten::split: 11 [supported]\n",
      "INFO:Neuron: => aten::sub: 11 [supported]\n",
      "INFO:Neuron: => aten::tanh: 12 [supported]\n",
      "INFO:Neuron: => aten::to: 24 [supported]\n",
      "INFO:Neuron: => aten::transpose: 11 [supported]\n",
      "INFO:Neuron: => aten::unsqueeze: 3 [supported]\n",
      "INFO:Neuron: => aten::view: 144 [supported]\n",
      "INFO:Neuron: => aten::where: 12 [not supported]\n",
      "WARNING:Neuron:torch.neuron.trace was unable to compile > 50% of the operators in the compiled model!\n",
      "WARNING:Neuron:Please review the torch.neuron.analyze_model output and if you believe you are seeing a failure\n",
      "WARNING:Neuron:Lodge an issue on https://github.com/aws/aws-neuron-sdk/issues if you believe the model is not compiling as expected\n"
     ]
    }
   ],
   "source": [
    "# Number of Cores in the Pipeline Mode\n",
    "neuroncore_pipeline_cores = 8 # This string should be '4' on an inf1.xlarge\n",
    "\n",
    "# Compiling for neuroncore-pipeline-cores='16'\n",
    "neuron_pipeline_model = torch.neuron.trace(model,\n",
    "                                           example_inputs = (inputs['input_ids'],torch.tensor([]),inputs['attention_mask']),\n",
    "                                           verbose=1,\n",
    "                                           compiler_args = ['--neuroncore-pipeline-cores', str(neuroncore_pipeline_cores)]\n",
    "                                          )"
   ]
  },
  {
   "cell_type": "markdown",
   "id": "enhanced-swedish",
   "metadata": {},
   "source": [
    "## Running the BERT base model on 16 NeuronCores\n",
    "Next, time one execution and check for the latency on the single inference call over 16 cores. You will load the model into Inferentia with a single inference call. A large \"wall time\" is expected when you first run the next cell, running the cell twice will show the actual inference latency:"
   ]
  },
  {
   "cell_type": "code",
   "execution_count": 5,
   "id": "expressed-trinity",
   "metadata": {},
   "outputs": [
    {
     "name": "stdout",
     "output_type": "stream",
     "text": [
      "CPU times: user 554 ms, sys: 15.5 ms, total: 570 ms\n",
      "Wall time: 47.9 ms\n"
     ]
    }
   ],
   "source": [
    "%%time\n",
    "# The following line tests inference and should be executed on Inf1 instance family. \n",
    "outputs = neuron_pipeline_model(*(inputs['input_ids'],torch.tensor([]),inputs['attention_mask']))"
   ]
  },
  {
   "cell_type": "markdown",
   "id": "located-graphic",
   "metadata": {},
   "source": [
    "Check also for the throughput of the single model running over a 16 NeuronCores. \n",
    "\n",
    "The sequential inference test (for loop) does not measure all the performance one can achieve with Pipeline mode. As the inference runs in streaming fashion, at least 15 cores are waiting for a new call until the last one processes the first call. This results in low NeuronCore utilization. To improve hardware utilization you will require parallel inference requests, which you'll test in the next section."
   ]
  },
  {
   "cell_type": "code",
   "execution_count": 6,
   "id": "hydraulic-calcium",
   "metadata": {},
   "outputs": [
    {
     "name": "stderr",
     "output_type": "stream",
     "text": [
      "100%|██████████| 100/100 [00:04<00:00, 21.63it/s]\n"
     ]
    }
   ],
   "source": [
    "for _ in tqdm(range(100)):\n",
    "    outputs = neuron_pipeline_model(*(inputs['input_ids'],torch.tensor([]),inputs['attention_mask']))\n",
    "    "
   ]
  },
  {
   "cell_type": "markdown",
   "id": "patent-victoria",
   "metadata": {},
   "source": [
    "## Load Testing the Pipeline Parallel Mode\n",
    "\n",
    "To put the 16 NeuronCores group to test, a client has to run concurrent requests to the model. In this Notebook setup you achieve it by creating a thread pool with `Joblib.Parallel`, with all workers on the pool runing one inference call. \n",
    "\n",
    "You can define a new method called `inference_latency()` so that you measure the amount of time each inference calls take."
   ]
  },
  {
   "cell_type": "code",
   "execution_count": 10,
   "id": "appointed-adventure",
   "metadata": {},
   "outputs": [],
   "source": [
    "def inference_latency(model,*inputs):\n",
    "    \"\"\"\n",
    "    infetence_time is a simple method to return the latency of a model inference.\n",
    "        \n",
    "        Parameters:\n",
    "            model: torch model onbject loaded using torch.jit.load\n",
    "            inputs: model() args\n",
    "        \n",
    "        Returns:\n",
    "            latency in seconds\n",
    "    \"\"\"\n",
    "    start = time.time()\n",
    "    _ = model(*inputs)\n",
    "    return time.time() - start"
   ]
  },
  {
   "cell_type": "markdown",
   "id": "environmental-guinea",
   "metadata": {},
   "source": [
    "Use `tqdm` to measure total throughput of your experiment, with a nice side-effect of \"cool progress bar!\". The total throughput is expected to be high, so set your experiment range to a large number, here 30k inferences. \n",
    "\n",
    "To calculate the latency statistics over the returned 30k list of latencies use `numpy.qunatile()` method."
   ]
  },
  {
   "cell_type": "code",
   "execution_count": null,
   "id": "played-catch",
   "metadata": {},
   "outputs": [],
   "source": [
    "t = tqdm(range(30000), position=0, leave=True)\n",
    "latency = Parallel(n_jobs=12,prefer=\"threads\")(delayed(inference_latency)(neuron_pipeline_model,*(inputs['input_ids'],torch.tensor([]),inputs['attention_mask'])) for i in t)\n",
    "\n",
    "p50 = np.quantile(latency[-10000:],0.50) * 1000\n",
    "p95 = np.quantile(latency[-10000:],0.95) * 1000\n",
    "p99 = np.quantile(latency[-10000:],0.99) * 1000\n",
    "avg_throughput = t.total/t.format_dict['elapsed']\n",
    "print(f'Avg Throughput: :{avg_throughput:.1f}')\n",
    "print(f'50th Percentile Latency:{p50:.1f} ms')\n",
    "print(f'95th Percentile Latency:{p95:.1f} ms')\n",
    "print(f'99th Percentile Latency:{p99:.1f} ms')"
   ]
  },
  {
   "cell_type": "markdown",
   "id": "exposed-northern",
   "metadata": {},
   "source": [
    "Save compile model for later use:"
   ]
  },
  {
   "cell_type": "code",
   "execution_count": null,
   "id": "imperial-complex",
   "metadata": {},
   "outputs": [],
   "source": [
    "# Save the TorchScript graph\n",
    "neuron_pipeline_model.save('gpt2-neuron-pipeline.pt')"
   ]
  },
  {
   "cell_type": "markdown",
   "id": "abroad-earthquake",
   "metadata": {},
   "source": [
    "## Bonus Section - Load Testing Data Parallel Mode\n",
    "\n",
    "Prior to setting up a Data Parallel experiment using the model compiled for a single NeuronCore, run the following cell to restart your IPython Kernel. \n",
    "\n",
    ">__Note:__ If you run this notebook using Jupyter Notebooks, instead of Jupyterlab, you may need to restart the kernel using the \"Kernel -> Restart\" option, after running the next cell "
   ]
  },
  {
   "cell_type": "code",
   "execution_count": 6,
   "id": "electoral-street",
   "metadata": {},
   "outputs": [
    {
     "data": {
      "text/plain": [
       "{'status': 'ok', 'restart': True}"
      ]
     },
     "execution_count": 6,
     "metadata": {},
     "output_type": "execute_result"
    }
   ],
   "source": [
    "import IPython\n",
    "# Automatically restarts kernel\n",
    "IPython.Application.instance().kernel.do_shutdown(True) "
   ]
  },
  {
   "cell_type": "markdown",
   "id": "solid-greek",
   "metadata": {},
   "source": [
    "After you get `{'status': 'ok', 'restart': True}`, reinstantiate your environment with the required libraries and just the `BertTokenizer` from 🤗Transformers. You will not re-compile the model as you have the `bert-base-uncased-neuron.pt` TorchScript graph available. Also, redefine the `inference_latency()` method. "
   ]
  },
  {
   "cell_type": "code",
   "execution_count": 1,
   "id": "therapeutic-detector",
   "metadata": {},
   "outputs": [],
   "source": [
    "import torch\n",
    "import torch_neuron\n",
    "from transformers import BertTokenizer \n",
    "\n",
    "from joblib import Parallel, delayed  \n",
    "import numpy as np\n",
    "from tqdm import tqdm\n",
    "from transformers import GPT2Tokenizer\n",
    "from transformers import GPT2Model\n",
    "import os\n",
    "import time \n",
    "\n",
    "def inference_latency(model,*inputs):\n",
    "    \"\"\"\n",
    "    infetence_time is a simple method to return the latency of a model inference.\n",
    "        \n",
    "        Parameters:\n",
    "            model: torch model onbject loaded using torch.jit.load\n",
    "            inputs: model() args\n",
    "        \n",
    "        Returns:\n",
    "            latency in seconds\n",
    "    \"\"\"\n",
    "    start = time.time()\n",
    "    _ = model(*inputs)\n",
    "    return time.time() - start\n",
    "\n",
    "tokenizer = GPT2Tokenizer.from_pretrained('gpt2')\n",
    "tokenizer.pad_token = tokenizer.eos_token\n",
    "\n",
    "inputs = tokenizer(\"Hello, my dog is cute\",return_tensors=\"pt\",max_length=128,padding='max_length',truncation=True)"
   ]
  },
  {
   "cell_type": "markdown",
   "id": "legal-terrorist",
   "metadata": {},
   "source": [
    "You use the `'NEURONCORE_GROUP_SIZES'` environment variable to define NeuronCore groups that will each load a single model at runtime. Set the environment variable to the number of individual workers you want to test in parallel.\n",
    "\n",
    "`torch_neuron` will load one model per NeuronCore group until it runs out of cores. At that point, if the Python process continues to spawn more model objest using `torch.jit.load`, `torch_neuron` will start stacking more than one model per core, until the Inferentia chip memory is full. \n",
    "\n",
    "Inferentia is able to run inference over all the loaded models, but only one at a time. The Neuron Runtime takes care of dynamically switching the model context as requests come in, no extra worker process management required. Use 1 model per NeuronCore to achieve maximum performance.\n",
    "\n",
    "The following cell creates a list with as many models as NeuronCore Groups and execute one single dummy inference to load the models into Inferentia. "
   ]
  },
  {
   "cell_type": "code",
   "execution_count": 8,
   "id": "current-mechanics",
   "metadata": {},
   "outputs": [
    {
     "name": "stderr",
     "output_type": "stream",
     "text": [
      "/home/ubuntu/anaconda3/envs/aws_neuron_pytorch_p36/lib/python3.6/site-packages/ipykernel/__main__.py:8: DeprecationWarning: NEURONCORE_GROUP_SIZES is being deprecated, if your application is using NEURONCORE_GROUP_SIZES please see https://awsdocs-neuron.readthedocs-hosted.com/en/latest/release-notes/deprecation.html#announcing-end-of-support-for-neuroncore-group-sizes for more details.\n"
     ]
    }
   ],
   "source": [
    "import warnings\n",
    "# Number of data parallel workers\n",
    "number_of_workers=8 # This number should be 4 on an inf1.xlarge\n",
    "\n",
    "# Setting up a data parallel group\n",
    "warnings.warn(\"NEURONCORE_GROUP_SIZES is being deprecated, if your application is using NEURONCORE_GROUP_SIZES please \\\n",
    "see https://awsdocs-neuron.readthedocs-hosted.com/en/latest/release-notes/deprecation.html#announcing-end-of-support-for-neuroncore-group-sizes \\\n",
    "for more details.\", DeprecationWarning)\n",
    "os.environ['NEURONCORE_GROUP_SIZES'] = \",\".join(['1']*number_of_workers)\n",
    "\n",
    "# Loading 'number_of_workers' amount of models in Python memory\n",
    "model_list = [torch.jit.load('gpt2-neuron.pt') for _ in range(number_of_workers)]\n",
    "\n",
    "# Dummy inference to load models to Inferentia\n",
    "_ = [mod(*(inputs['input_ids'],torch.tensor([]),inputs['attention_mask'])) for mod in model_list]\n"
   ]
  },
  {
   "cell_type": "markdown",
   "id": "threatened-swaziland",
   "metadata": {},
   "source": [
    "Adapt the call to `joblib.Parallel()` iterating over a concatenated version of the `model_list`, to run 'round-robin' calls to each of the model workers.  "
   ]
  },
  {
   "cell_type": "code",
   "execution_count": 12,
   "id": "fleet-month",
   "metadata": {},
   "outputs": [
    {
     "name": "stderr",
     "output_type": "stream",
     "text": [
      "100%|██████████| 12000/12000 [04:22<00:00, 45.64it/s]"
     ]
    },
    {
     "name": "stdout",
     "output_type": "stream",
     "text": [
      "Avg Throughput: :45.6\n",
      "50th Percentile Latency:174.4 ms\n",
      "95th Percentile Latency:247.8 ms\n",
      "99th Percentile Latency:279.4 ms\n"
     ]
    },
    {
     "name": "stderr",
     "output_type": "stream",
     "text": [
      "\n"
     ]
    }
   ],
   "source": [
    "t = tqdm(model_list*1500,position=0, leave=True)\n",
    "latency = Parallel(n_jobs=number_of_workers,prefer=\"threads\")(delayed(inference_latency)(mod,*(inputs['input_ids'],torch.tensor([]),inputs['attention_mask'])) for mod in t)\n",
    "\n",
    "p50 = np.quantile(latency[-10000:],0.50) * 1000\n",
    "p95 = np.quantile(latency[-10000:],0.95) * 1000\n",
    "p99 = np.quantile(latency[-10000:],0.99) * 1000\n",
    "avg_throughput = t.total/t.format_dict['elapsed']\n",
    "print(f'Avg Throughput: :{avg_throughput:.1f}')\n",
    "print(f'50th Percentile Latency:{p50:.1f} ms')\n",
    "print(f'95th Percentile Latency:{p95:.1f} ms')\n",
    "print(f'99th Percentile Latency:{p99:.1f} ms')"
   ]
  },
  {
   "cell_type": "markdown",
   "id": "aggressive-stevens",
   "metadata": {},
   "source": [
    "For this model, despite the larger number of workers, the per-worker latency increases when running a single model per core, which in turn reduces the total throughput. \n",
    "\n",
    "This behavior may not repeat if the model memory footprint or the input payload size changes, i.e batch size > 1. We encourage you to experiment with the data parallel and pipeline parallel modes to optimize your application performance. "
   ]
  },
  {
   "cell_type": "code",
   "execution_count": null,
   "id": "athletic-riverside",
   "metadata": {},
   "outputs": [],
   "source": []
  }
 ],
 "metadata": {
  "kernelspec": {
   "display_name": "Environment (conda_aws_neuron_pytorch_p36)",
   "language": "python",
   "name": "conda_aws_neuron_pytorch_p36"
  },
  "language_info": {
   "codemirror_mode": {
    "name": "ipython",
    "version": 3
   },
   "file_extension": ".py",
   "mimetype": "text/x-python",
   "name": "python",
   "nbconvert_exporter": "python",
   "pygments_lexer": "ipython3",
   "version": "3.6.13"
  }
 },
 "nbformat": 4,
 "nbformat_minor": 5
}
